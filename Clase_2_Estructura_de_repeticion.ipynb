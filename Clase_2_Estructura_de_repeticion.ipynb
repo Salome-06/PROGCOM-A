{
  "nbformat": 4,
  "nbformat_minor": 0,
  "metadata": {
    "colab": {
      "provenance": [],
      "authorship_tag": "ABX9TyPf6G1fILgfvGZ01cEfTdR1",
      "include_colab_link": true
    },
    "kernelspec": {
      "name": "python3",
      "display_name": "Python 3"
    },
    "language_info": {
      "name": "python"
    }
  },
  "cells": [
    {
      "cell_type": "markdown",
      "metadata": {
        "id": "view-in-github",
        "colab_type": "text"
      },
      "source": [
        "<a href=\"https://colab.research.google.com/github/Salome-06/PROGCOM-A/blob/main/Clase_2_Estructura_de_repeticion.ipynb\" target=\"_parent\"><img src=\"https://colab.research.google.com/assets/colab-badge.svg\" alt=\"Open In Colab\"/></a>"
      ]
    },
    {
      "cell_type": "markdown",
      "source": [
        "##Estructura de repeticion\n",
        "Permite repetir una o mas acciones de acuerdo con una condicion (mientras se cumpla la condicion)."
      ],
      "metadata": {
        "id": "VxHI_u2zPq6y"
      }
    },
    {
      "cell_type": "markdown",
      "source": [
        "##Estructura para - for\n",
        "\n",
        "1. Cuando se sabe cuantas veces se repite una accion.\n",
        "2. Esta conformado por una condicion inicial (CI) una condicion final (CF) y pasos (fecuencia de repeticion).\n",
        "3. Esta estructura no se detendra, hasta alcanzar CF-1\n",
        "\n",
        "Estructura general del for\n",
        "\n",
        "\n",
        "```\n",
        "for (variable) in range (CI, CF+1,paso):\n",
        "  Se repite (CF+1-CI)/paso veces una accion\n",
        "```\n",
        "\n",
        "Estructura resumida del for\n",
        "\n",
        "\n",
        "\n",
        "```\n",
        "for (variable) in range (cantidad):\n",
        "  Se repite cantidad de veces una accion\n",
        "```\n",
        "Estrucutra for como iteracion\n",
        "1. El para (for) itera tantas veces, como elementos tenga la lista.\n",
        "2. La variable toma el valor de cada elemento de la lista por iteracion\n",
        "\n",
        "\n",
        "```\n",
        "Lista=[1,2,3,4,5]\n",
        "for (variable) in Lista:\n",
        "  Se repite len(Lista)\n",
        "```\n",
        "\n",
        "\n"
      ],
      "metadata": {
        "id": "oTT-OYgtP7MC"
      }
    },
    {
      "cell_type": "code",
      "source": [],
      "metadata": {
        "id": "qap8lpRoTYDo"
      },
      "execution_count": null,
      "outputs": []
    },
    {
      "cell_type": "code",
      "source": [
        " n= int(input(\"Digita un numero:\"))\n",
        " print(f\"Tabla del {n}\")"
      ],
      "metadata": {
        "colab": {
          "base_uri": "https://localhost:8080/"
        },
        "id": "Xduj5MN3TRth",
        "outputId": "7c13b033-7ac5-4d51-9f21-075680999f5a"
      },
      "execution_count": null,
      "outputs": [
        {
          "name": "stdout",
          "output_type": "stream",
          "text": [
            "Digita un numero:10\n"
          ]
        }
      ]
    },
    {
      "cell_type": "code",
      "source": [
        " print(f\"Tabla del {n}\")\n",
        " for holitas in range(1,11,1):\n",
        "   print(f\"{n} x {holitas} = {n*holitas}\")"
      ],
      "metadata": {
        "colab": {
          "base_uri": "https://localhost:8080/"
        },
        "id": "gy8vnO48Tap4",
        "outputId": "20363eac-2d72-4a20-f209-046a8e259431"
      },
      "execution_count": null,
      "outputs": [
        {
          "output_type": "stream",
          "name": "stdout",
          "text": [
            "Tabla del 10\n",
            "10 x 1 = 10\n",
            "10 x 2 = 20\n",
            "10 x 3 = 30\n",
            "10 x 4 = 40\n",
            "10 x 5 = 50\n",
            "10 x 6 = 60\n",
            "10 x 7 = 70\n",
            "10 x 8 = 80\n",
            "10 x 9 = 90\n",
            "10 x 10 = 100\n"
          ]
        }
      ]
    },
    {
      "cell_type": "code",
      "source": [
        "n= int(input(\"Digita un numero:\"))\n",
        "print(f\"Tabla del {n}\")"
      ],
      "metadata": {
        "colab": {
          "base_uri": "https://localhost:8080/"
        },
        "id": "KUO_0TWyUp3g",
        "outputId": "b4666f23-5729-4c1b-cf6d-db1454d2207c"
      },
      "execution_count": null,
      "outputs": [
        {
          "output_type": "stream",
          "name": "stdout",
          "text": [
            "Digita un numero:9\n",
            "Tabla del 9\n"
          ]
        }
      ]
    },
    {
      "cell_type": "code",
      "source": [
        "print(f\"Tabla del {n}\")\n",
        "for holitas in range(1,11,1):\n",
        "   print(f\"{n} x {holitas} = {n*holitas}\")"
      ],
      "metadata": {
        "colab": {
          "base_uri": "https://localhost:8080/"
        },
        "id": "BiKpEyFnVJQA",
        "outputId": "da926b8a-3aed-412a-c287-8511fe940974"
      },
      "execution_count": null,
      "outputs": [
        {
          "output_type": "stream",
          "name": "stdout",
          "text": [
            "Tabla del 9\n",
            "9 x 1 = 9\n",
            "9 x 2 = 18\n",
            "9 x 3 = 27\n",
            "9 x 4 = 36\n",
            "9 x 5 = 45\n",
            "9 x 6 = 54\n",
            "9 x 7 = 63\n",
            "9 x 8 = 72\n",
            "9 x 9 = 81\n",
            "9 x 10 = 90\n"
          ]
        }
      ]
    },
    {
      "cell_type": "code",
      "source": [
        "n= int(input(\"Digita un numero:\"))\n",
        "print(f\"Tabla del {n}\")"
      ],
      "metadata": {
        "colab": {
          "base_uri": "https://localhost:8080/"
        },
        "id": "xwyDg7AMVM0g",
        "outputId": "c3dcbf48-a48b-43e4-ece4-f5d73ffec5a9"
      },
      "execution_count": null,
      "outputs": [
        {
          "output_type": "stream",
          "name": "stdout",
          "text": [
            "Digita un numero:8\n",
            "Tabla del 8\n"
          ]
        }
      ]
    },
    {
      "cell_type": "code",
      "source": [
        "print(f\"Tabla del {n}\")\n",
        "for holitas in range(1,11,1):\n",
        "   print(f\"{n} x {holitas} = {n*holitas}\")"
      ],
      "metadata": {
        "colab": {
          "base_uri": "https://localhost:8080/"
        },
        "id": "ODvepjetVQQH",
        "outputId": "cc897526-d5bd-4c06-d493-407b9ed015a6"
      },
      "execution_count": null,
      "outputs": [
        {
          "output_type": "stream",
          "name": "stdout",
          "text": [
            "Tabla del 8\n",
            "8 x 1 = 8\n",
            "8 x 2 = 16\n",
            "8 x 3 = 24\n",
            "8 x 4 = 32\n",
            "8 x 5 = 40\n",
            "8 x 6 = 48\n",
            "8 x 7 = 56\n",
            "8 x 8 = 64\n",
            "8 x 9 = 72\n",
            "8 x 10 = 80\n"
          ]
        }
      ]
    },
    {
      "cell_type": "code",
      "source": [
        "print(\"Tablas de multiplicar\")\n",
        "for perritos in range (1,11,1):\n",
        " print(f\"\")\n",
        " print(f\"Tabla del {perritos}\")\n",
        " for gatitos in range (1,11,1):\n",
        "   print(f\"{perritos} x {gatitos} = {perritos*gatitos}\")"
      ],
      "metadata": {
        "colab": {
          "base_uri": "https://localhost:8080/"
        },
        "id": "OYeWzfw7VYdn",
        "outputId": "106b2866-9f4b-4698-dc52-bf5981907243"
      },
      "execution_count": null,
      "outputs": [
        {
          "output_type": "stream",
          "name": "stdout",
          "text": [
            "Tablas de multiplicar\n",
            "\n",
            "Tabla del 1\n",
            "1 x 1 = 1\n",
            "1 x 2 = 2\n",
            "1 x 3 = 3\n",
            "1 x 4 = 4\n",
            "1 x 5 = 5\n",
            "1 x 6 = 6\n",
            "1 x 7 = 7\n",
            "1 x 8 = 8\n",
            "1 x 9 = 9\n",
            "1 x 10 = 10\n",
            "\n",
            "Tabla del 2\n",
            "2 x 1 = 2\n",
            "2 x 2 = 4\n",
            "2 x 3 = 6\n",
            "2 x 4 = 8\n",
            "2 x 5 = 10\n",
            "2 x 6 = 12\n",
            "2 x 7 = 14\n",
            "2 x 8 = 16\n",
            "2 x 9 = 18\n",
            "2 x 10 = 20\n",
            "\n",
            "Tabla del 3\n",
            "3 x 1 = 3\n",
            "3 x 2 = 6\n",
            "3 x 3 = 9\n",
            "3 x 4 = 12\n",
            "3 x 5 = 15\n",
            "3 x 6 = 18\n",
            "3 x 7 = 21\n",
            "3 x 8 = 24\n",
            "3 x 9 = 27\n",
            "3 x 10 = 30\n",
            "\n",
            "Tabla del 4\n",
            "4 x 1 = 4\n",
            "4 x 2 = 8\n",
            "4 x 3 = 12\n",
            "4 x 4 = 16\n",
            "4 x 5 = 20\n",
            "4 x 6 = 24\n",
            "4 x 7 = 28\n",
            "4 x 8 = 32\n",
            "4 x 9 = 36\n",
            "4 x 10 = 40\n",
            "\n",
            "Tabla del 5\n",
            "5 x 1 = 5\n",
            "5 x 2 = 10\n",
            "5 x 3 = 15\n",
            "5 x 4 = 20\n",
            "5 x 5 = 25\n",
            "5 x 6 = 30\n",
            "5 x 7 = 35\n",
            "5 x 8 = 40\n",
            "5 x 9 = 45\n",
            "5 x 10 = 50\n",
            "\n",
            "Tabla del 6\n",
            "6 x 1 = 6\n",
            "6 x 2 = 12\n",
            "6 x 3 = 18\n",
            "6 x 4 = 24\n",
            "6 x 5 = 30\n",
            "6 x 6 = 36\n",
            "6 x 7 = 42\n",
            "6 x 8 = 48\n",
            "6 x 9 = 54\n",
            "6 x 10 = 60\n",
            "\n",
            "Tabla del 7\n",
            "7 x 1 = 7\n",
            "7 x 2 = 14\n",
            "7 x 3 = 21\n",
            "7 x 4 = 28\n",
            "7 x 5 = 35\n",
            "7 x 6 = 42\n",
            "7 x 7 = 49\n",
            "7 x 8 = 56\n",
            "7 x 9 = 63\n",
            "7 x 10 = 70\n",
            "\n",
            "Tabla del 8\n",
            "8 x 1 = 8\n",
            "8 x 2 = 16\n",
            "8 x 3 = 24\n",
            "8 x 4 = 32\n",
            "8 x 5 = 40\n",
            "8 x 6 = 48\n",
            "8 x 7 = 56\n",
            "8 x 8 = 64\n",
            "8 x 9 = 72\n",
            "8 x 10 = 80\n",
            "\n",
            "Tabla del 9\n",
            "9 x 1 = 9\n",
            "9 x 2 = 18\n",
            "9 x 3 = 27\n",
            "9 x 4 = 36\n",
            "9 x 5 = 45\n",
            "9 x 6 = 54\n",
            "9 x 7 = 63\n",
            "9 x 8 = 72\n",
            "9 x 9 = 81\n",
            "9 x 10 = 90\n",
            "\n",
            "Tabla del 10\n",
            "10 x 1 = 10\n",
            "10 x 2 = 20\n",
            "10 x 3 = 30\n",
            "10 x 4 = 40\n",
            "10 x 5 = 50\n",
            "10 x 6 = 60\n",
            "10 x 7 = 70\n",
            "10 x 8 = 80\n",
            "10 x 9 = 90\n",
            "10 x 10 = 100\n"
          ]
        }
      ]
    },
    {
      "cell_type": "code",
      "source": [
        "print(f\"Tabla del {n}\")\n",
        "for holitas in range(10):\n",
        "  print(f\"{n} x {holitas+1} = {n*(holitas+1)}\")"
      ],
      "metadata": {
        "colab": {
          "base_uri": "https://localhost:8080/"
        },
        "id": "k1zsx9LIXc7f",
        "outputId": "f938d989-0ca1-4ba5-ae10-0a18d9cf2774"
      },
      "execution_count": null,
      "outputs": [
        {
          "output_type": "stream",
          "name": "stdout",
          "text": [
            "Tabla del 8\n",
            "8 x 1 = 8\n",
            "8 x 2 = 16\n",
            "8 x 3 = 24\n",
            "8 x 4 = 32\n",
            "8 x 5 = 40\n",
            "8 x 6 = 48\n",
            "8 x 7 = 56\n",
            "8 x 8 = 64\n",
            "8 x 9 = 72\n",
            "8 x 10 = 80\n"
          ]
        }
      ]
    },
    {
      "cell_type": "code",
      "source": [
        "print(f\"Tabla de multiplicar {n}\")\n",
        "for holitas in range(1,11*n,n):\n",
        "  print(f\"{n} x {int(holitas/n)} = {n*int(holitas/n)}\")\n",
        "\n"
      ],
      "metadata": {
        "colab": {
          "base_uri": "https://localhost:8080/"
        },
        "id": "G4HycrylYbwX",
        "outputId": "6ee94f79-4ec8-482f-93a8-dca908938607"
      },
      "execution_count": null,
      "outputs": [
        {
          "output_type": "stream",
          "name": "stdout",
          "text": [
            "Tabla de multiplicar 7\n",
            "7 x 0 = 0\n",
            "7 x 1 = 7\n",
            "7 x 2 = 14\n",
            "7 x 3 = 21\n",
            "7 x 4 = 28\n",
            "7 x 5 = 35\n",
            "7 x 6 = 42\n",
            "7 x 7 = 49\n",
            "7 x 8 = 56\n",
            "7 x 9 = 63\n",
            "7 x 10 = 70\n"
          ]
        }
      ]
    },
    {
      "cell_type": "code",
      "source": [
        "numeros=[1,2,3,4,5,6,7,8,9,10]\n",
        "for num in numeros:\n",
        "  print(f\"{n} x {num} = {n*num}\")"
      ],
      "metadata": {
        "colab": {
          "base_uri": "https://localhost:8080/"
        },
        "id": "i4J7mL5efHVk",
        "outputId": "9c7d96e8-efd5-4fd3-fb3a-13ee6c3de7e0"
      },
      "execution_count": null,
      "outputs": [
        {
          "output_type": "stream",
          "name": "stdout",
          "text": [
            "7 x 1 = 7\n",
            "7 x 2 = 14\n",
            "7 x 3 = 21\n",
            "7 x 4 = 28\n",
            "7 x 5 = 35\n",
            "7 x 6 = 42\n",
            "7 x 7 = 49\n",
            "7 x 8 = 56\n",
            "7 x 9 = 63\n",
            "7 x 10 = 70\n"
          ]
        }
      ]
    },
    {
      "cell_type": "code",
      "source": [
        "numeros2=list(range(1,11))\n",
        "numeros2"
      ],
      "metadata": {
        "colab": {
          "base_uri": "https://localhost:8080/"
        },
        "id": "tFYgSKTSfoGk",
        "outputId": "db2bcc49-842e-4514-df73-7522b673b195"
      },
      "execution_count": null,
      "outputs": [
        {
          "output_type": "execute_result",
          "data": {
            "text/plain": [
              "[1, 2, 3, 4, 5, 6, 7, 8, 9, 10]"
            ]
          },
          "metadata": {},
          "execution_count": 55
        }
      ]
    },
    {
      "cell_type": "code",
      "source": [
        "for num in numeros2:\n",
        "  print(f\"{n} x {num} = {n*num}\")"
      ],
      "metadata": {
        "colab": {
          "base_uri": "https://localhost:8080/"
        },
        "id": "ru49bG0nfw2M",
        "outputId": "4280fec8-7084-4a4e-b937-051221e4bee1"
      },
      "execution_count": null,
      "outputs": [
        {
          "output_type": "stream",
          "name": "stdout",
          "text": [
            "7 x 1 = 7\n",
            "7 x 2 = 14\n",
            "7 x 3 = 21\n",
            "7 x 4 = 28\n",
            "7 x 5 = 35\n",
            "7 x 6 = 42\n",
            "7 x 7 = 49\n",
            "7 x 8 = 56\n",
            "7 x 9 = 63\n",
            "7 x 10 = 70\n"
          ]
        }
      ]
    },
    {
      "cell_type": "markdown",
      "source": [
        "9/Agosto\n",
        "##Listas\n",
        "1. Es un tipo de datos\n",
        "2. Forma canónica para declarar una lista\n",
        "3. Todos los elementos de una lista DEBEN separarse por comas.\n",
        "\n",
        "\n",
        "\n",
        "```\n",
        "(variable)=[]\n",
        "Ejemplo:\n",
        "flores=[\"amapola\", \"tulipan\", \"lengua de suegra\",dahlia, rosa]```\n",
        "\n"
      ],
      "metadata": {
        "id": "aX0WDjjw23Jo"
      }
    },
    {
      "cell_type": "code",
      "source": [
        "dahlia= 3 #Variable de tipo númerica. int\n",
        "rosa=\"cinco\" #Variable de tipo alfanúmerico, str\n",
        "flores=[\"amapola\", \"tulipan\", \"lengua de suegra\",dahlia, rosa]\n",
        "flores"
      ],
      "metadata": {
        "id": "zoc6ETnM3NvH"
      },
      "execution_count": null,
      "outputs": []
    },
    {
      "cell_type": "markdown",
      "source": [
        "4. Manual.\n",
        "\n",
        "\n",
        "\n",
        "```\n",
        "Lista2=[dato1, dato2, dato3... datoN]\n",
        "```\n",
        "\n",
        "\n",
        "5. Siempre son finitas\n",
        "6. Son indexadas\n",
        "\n",
        "\n",
        "```\n",
        "Lista2=[dato1, dato2, dato3... datoN] ```\n",
        "\n",
        "\n"
      ],
      "metadata": {
        "id": "3fH9DfQ33sdf"
      }
    },
    {
      "cell_type": "markdown",
      "source": [
        "dato1 está en el index 0\n",
        "dato2 está ubicadp en el index 1\n",
        "7. Estructuras para la creación de listas\n"
      ],
      "metadata": {
        "id": "hs8bYGjD408u"
      }
    },
    {
      "cell_type": "code",
      "source": [
        "#Ejemplo: crear una lista de 5 elementos\n",
        "lista=[]#Para que el programa sepa que es una lista\n",
        "for sonrisas in range (5):\n"
      ],
      "metadata": {
        "id": "_2KogddV46sA"
      },
      "execution_count": null,
      "outputs": []
    },
    {
      "cell_type": "code",
      "source": [
        "lista=[]\n",
        "for sonrisas in range (5):\n",
        " flores=input(\"ingresa el nombre de una flor: \")\n",
        " lista.append(flores)"
      ],
      "metadata": {
        "colab": {
          "base_uri": "https://localhost:8080/"
        },
        "id": "NB1Mx28I3-3W",
        "outputId": "e1fbc632-6ee7-4a2c-fcdb-d8d8ad2f6f83"
      },
      "execution_count": 6,
      "outputs": [
        {
          "name": "stdout",
          "output_type": "stream",
          "text": [
            "ingresa el nombre de una flor: clavel\n",
            "ingresa el nombre de una flor: tulipna\n",
            "ingresa el nombre de una flor: girasol\n",
            "ingresa el nombre de una flor: orquidea\n",
            "ingresa el nombre de una flor: rosa\n"
          ]
        }
      ]
    },
    {
      "cell_type": "code",
      "source": [
        "lista"
      ],
      "metadata": {
        "colab": {
          "base_uri": "https://localhost:8080/"
        },
        "id": "qltiVGM_5X6F",
        "outputId": "e519c86c-8547-4948-bac1-c85024479a30"
      },
      "execution_count": 7,
      "outputs": [
        {
          "output_type": "execute_result",
          "data": {
            "text/plain": [
              "['clavel', 'tulipna', 'girasol', 'orquidea', 'rosa']"
            ]
          },
          "metadata": {},
          "execution_count": 7
        }
      ]
    },
    {
      "cell_type": "code",
      "source": [
        "#Saber quien esta en la posicion\n",
        "flores=[0]\n",
        "flores"
      ],
      "metadata": {
        "id": "itVPaOn85aYd"
      },
      "execution_count": null,
      "outputs": []
    },
    {
      "cell_type": "markdown",
      "source": [
        "##10 EJERCICIOS PARTE 2\n",
        "\n",
        "1. Escribe un programa que imprima los números del 1 al 10.\n",
        "\n",
        "for (variable) in range (cantidad):\n",
        "  Se repite cantidad de veces una accion\n",
        "\n",
        "  for (variable) in range (cantidad):\n",
        "  Se repite cantidad de veces una accio\n",
        "\n",
        "  Lista=[1,2,3,4,5]\n",
        "for (variable) in Lista:\n",
        "  Se repite len(Lista)"
      ],
      "metadata": {
        "id": "VyaiBTGL9BXC"
      }
    },
    {
      "cell_type": "code",
      "source": [
        "for i in range(10):\n",
        "  print(i+1)"
      ],
      "metadata": {
        "colab": {
          "base_uri": "https://localhost:8080/"
        },
        "id": "VER0g8r--oj5",
        "outputId": "cb3c437f-66f8-4057-8f04-39115eba5049"
      },
      "execution_count": 14,
      "outputs": [
        {
          "output_type": "stream",
          "name": "stdout",
          "text": [
            "1\n",
            "2\n",
            "3\n",
            "4\n",
            "5\n",
            "6\n",
            "7\n",
            "8\n",
            "9\n",
            "10\n"
          ]
        }
      ]
    },
    {
      "cell_type": "code",
      "source": [
        "numeros=[]\n",
        "for i in range (10):\n",
        " numeros.append(i+1)\n",
        "print(numeros)"
      ],
      "metadata": {
        "colab": {
          "base_uri": "https://localhost:8080/"
        },
        "id": "PqkmMP3g9I66",
        "outputId": "7252f495-f284-4d74-8a13-01f4c1ad47cb"
      },
      "execution_count": 13,
      "outputs": [
        {
          "output_type": "stream",
          "name": "stdout",
          "text": [
            "[1, 2, 3, 4, 5, 6, 7, 8, 9, 10]\n"
          ]
        }
      ]
    },
    {
      "cell_type": "markdown",
      "source": [
        "2. Escribe un programa que sume los números del 1 al 100.\n"
      ],
      "metadata": {
        "id": "rG_cjWDt-kUi"
      }
    },
    {
      "cell_type": "code",
      "source": [
        "suma=0\n",
        "i=[1-100]\n",
        "for i in range (101):\n",
        "  suma= i+suma\n",
        "print(suma)"
      ],
      "metadata": {
        "colab": {
          "base_uri": "https://localhost:8080/"
        },
        "id": "Tmo2_KSy-mrq",
        "outputId": "5ed7979b-01c7-49ee-bab1-81428bdb2486"
      },
      "execution_count": 26,
      "outputs": [
        {
          "output_type": "stream",
          "name": "stdout",
          "text": [
            "5050\n"
          ]
        }
      ]
    },
    {
      "cell_type": "code",
      "source": [
        "suma_numeros = []\n",
        "suma=0\n",
        "for i in range (101):\n",
        "  suma = i+suma\n",
        "  suma_numeros.append(suma)\n",
        "print(suma_numeros)"
      ],
      "metadata": {
        "colab": {
          "base_uri": "https://localhost:8080/"
        },
        "id": "qWc5p6tRAG3Z",
        "outputId": "c120b77b-05a9-48d8-c886-54ceb93e5852"
      },
      "execution_count": 28,
      "outputs": [
        {
          "output_type": "stream",
          "name": "stdout",
          "text": [
            "[0, 1, 3, 6, 10, 15, 21, 28, 36, 45, 55, 66, 78, 91, 105, 120, 136, 153, 171, 190, 210, 231, 253, 276, 300, 325, 351, 378, 406, 435, 465, 496, 528, 561, 595, 630, 666, 703, 741, 780, 820, 861, 903, 946, 990, 1035, 1081, 1128, 1176, 1225, 1275, 1326, 1378, 1431, 1485, 1540, 1596, 1653, 1711, 1770, 1830, 1891, 1953, 2016, 2080, 2145, 2211, 2278, 2346, 2415, 2485, 2556, 2628, 2701, 2775, 2850, 2926, 3003, 3081, 3160, 3240, 3321, 3403, 3486, 3570, 3655, 3741, 3828, 3916, 4005, 4095, 4186, 4278, 4371, 4465, 4560, 4656, 4753, 4851, 4950, 5050]\n"
          ]
        }
      ]
    },
    {
      "cell_type": "markdown",
      "source": [
        "3. Escribe un programa que imprima los múltiplos de 3 entre 1 y 30.\n"
      ],
      "metadata": {
        "id": "_ghhwnqMAxbv"
      }
    },
    {
      "cell_type": "code",
      "source": [
        "for i in range(3,31,3):\n",
        " print(i)"
      ],
      "metadata": {
        "colab": {
          "base_uri": "https://localhost:8080/"
        },
        "id": "SGkZKv5MA0bq",
        "outputId": "a87f5d19-3d0e-4a08-ec7a-8eafab922ec7"
      },
      "execution_count": 31,
      "outputs": [
        {
          "output_type": "stream",
          "name": "stdout",
          "text": [
            "3\n",
            "6\n",
            "9\n",
            "12\n",
            "15\n",
            "18\n",
            "21\n",
            "24\n",
            "27\n",
            "30\n"
          ]
        }
      ]
    },
    {
      "cell_type": "code",
      "source": [
        "multiplos_de_3=[]\n",
        "for i in range(3,31,3):\n",
        " multiplos_de_3.append(i)\n",
        "print(multiplos_de_3)\n"
      ],
      "metadata": {
        "colab": {
          "base_uri": "https://localhost:8080/"
        },
        "id": "si8f5YfwB-jq",
        "outputId": "4cb8b6db-4878-464f-874d-a1a6c9215e8d"
      },
      "execution_count": 35,
      "outputs": [
        {
          "output_type": "stream",
          "name": "stdout",
          "text": [
            "[3, 6, 9, 12, 15, 18, 21, 24, 27, 30]\n"
          ]
        }
      ]
    },
    {
      "cell_type": "markdown",
      "source": [
        "4. Escribe un programa que lea un número e imprima su tabla de multiplicar del 1 al 10.\n"
      ],
      "metadata": {
        "id": "q5n5VWdACcf3"
      }
    },
    {
      "cell_type": "code",
      "source": [
        " s=int(input(\"Ingrese el numero a multiplicar:\"))\n",
        " print(f\"Tabla del {i}\")\n",
        " for i in range(1,11,1):\n",
        "   print(f\"{s} x {i} = {s*i}\")"
      ],
      "metadata": {
        "colab": {
          "base_uri": "https://localhost:8080/"
        },
        "id": "nhzKMaZeCj0q",
        "outputId": "97faf11b-655f-4acf-a9f5-5bb43a740138"
      },
      "execution_count": 37,
      "outputs": [
        {
          "output_type": "stream",
          "name": "stdout",
          "text": [
            "Ingrese el numero a multiplicar:2\n",
            "Tabla del 2\n",
            "2 x 1 = 2\n",
            "2 x 2 = 4\n",
            "2 x 3 = 6\n",
            "2 x 4 = 8\n",
            "2 x 5 = 10\n",
            "2 x 6 = 12\n",
            "2 x 7 = 14\n",
            "2 x 8 = 16\n",
            "2 x 9 = 18\n",
            "2 x 10 = 20\n"
          ]
        }
      ]
    },
    {
      "cell_type": "code",
      "source": [
        "tabla_elegida=[]\n",
        "s=int(input(\"Ingrese el numero a multiplicar:\"))\n",
        "print(\"\")\n",
        "print(f\"Tabla del {s}\")\n",
        "for i in range(1,11,1):\n",
        "  multiplicar=s*i\n",
        "  tabla_elegida.append(multiplicar)\n",
        "print(tabla_elegida)"
      ],
      "metadata": {
        "colab": {
          "base_uri": "https://localhost:8080/"
        },
        "id": "e3sylYXwDfwO",
        "outputId": "7ac1b029-44b3-49a5-a255-32b4e3a01458"
      },
      "execution_count": 42,
      "outputs": [
        {
          "output_type": "stream",
          "name": "stdout",
          "text": [
            "Ingrese el numero a multiplicar:49\n",
            "\n",
            "Tabla del 49\n",
            "[49, 98, 147, 196, 245, 294, 343, 392, 441, 490]\n"
          ]
        }
      ]
    },
    {
      "cell_type": "markdown",
      "source": [
        "5. Escribe un programa que pida 5 números al usuario y calcule el promedio.\n"
      ],
      "metadata": {
        "id": "DoXPuMwfE451"
      }
    },
    {
      "cell_type": "code",
      "source": [
        "for i in range(5):\n",
        "   numeros=int(input(\"Ingresa un numero: \"))\n",
        "suma=numeros+numeros\n",
        "promedio=(suma)/5\n",
        "print(promedio)"
      ],
      "metadata": {
        "colab": {
          "base_uri": "https://localhost:8080/"
        },
        "id": "C0-uFxs8E7W_",
        "outputId": "ab312d2d-b965-4002-c053-cfa0bf4afa35"
      },
      "execution_count": 45,
      "outputs": [
        {
          "output_type": "stream",
          "name": "stdout",
          "text": [
            "Ingresa un numero: 2\n",
            "Ingresa un numero: 3\n",
            "Ingresa un numero: 4\n",
            "Ingresa un numero: 5\n",
            "Ingresa un numero: 7\n",
            "2.8\n"
          ]
        }
      ]
    },
    {
      "cell_type": "code",
      "source": [],
      "metadata": {
        "id": "l4atqIaBFdS4"
      },
      "execution_count": null,
      "outputs": []
    }
  ]
}