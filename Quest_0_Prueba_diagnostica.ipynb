{
  "nbformat": 4,
  "nbformat_minor": 0,
  "metadata": {
    "colab": {
      "provenance": [],
      "authorship_tag": "ABX9TyPIS05bUOrIYJNEwonxh8Ml",
      "include_colab_link": true
    },
    "kernelspec": {
      "name": "python3",
      "display_name": "Python 3"
    },
    "language_info": {
      "name": "python"
    }
  },
  "cells": [
    {
      "cell_type": "markdown",
      "metadata": {
        "id": "view-in-github",
        "colab_type": "text"
      },
      "source": [
        "<a href=\"https://colab.research.google.com/github/Salome-06/PROGCOM-A/blob/main/Quest_0_Prueba_diagnostica.ipynb\" target=\"_parent\"><img src=\"https://colab.research.google.com/assets/colab-badge.svg\" alt=\"Open In Colab\"/></a>"
      ]
    },
    {
      "cell_type": "markdown",
      "source": [
        "#Prueba diagnostica"
      ],
      "metadata": {
        "id": "ZSDs7vbJJwl6"
      }
    },
    {
      "cell_type": "code",
      "execution_count": null,
      "metadata": {
        "id": "Gl1S-othJCjw"
      },
      "outputs": [],
      "source": []
    },
    {
      "cell_type": "markdown",
      "source": [
        "##Estructuras de seleccion\n",
        "Aqui se desarrollaran ejercicios sobre estructuras de seleccion\n",
        "\n",
        "Por pseint\n",
        "\n",
        "\n",
        "```\n",
        "\n",
        "si (condicion) entonces:\n",
        "   pasan cosas divertidas\n",
        "sino:\n",
        "   llorelo\n",
        "```\n",
        "\n",
        "Por algoritmia\n",
        "\n",
        "1. Solicito la variable y la almaceno en a\n",
        "2. Comparo esa variable con otra llamada b\n"
      ],
      "metadata": {
        "id": "l4hCywfcKMxS"
      }
    },
    {
      "cell_type": "markdown",
      "source": [],
      "metadata": {
        "id": "4JKlNIRDVobP"
      }
    },
    {
      "cell_type": "markdown",
      "source": [
        "Parte 1: Estructuras de Decision (10 ejercicios)\n",
        "\n",
        "1. Escribe un programa que reciba un numero e indique si es positivo\n",
        "\n",
        "\n",
        "\n",
        "```\n",
        "1 Algoritmo numero\n",
        "2 Determinar \"c\" como real\n",
        "3 Escribir \"Ingrese un numero\"\n",
        "4 Leer c\n",
        "5 si c>0\n",
        "6 Escribir \"El numero es positivo\"\n",
        "7 sino\n",
        "8 Escribir \"El numero es negativo\"\n",
        "9 Fin\n",
        "\n",
        "```\n",
        "\n"
      ],
      "metadata": {
        "id": "S5WJv0-vVuZf"
      }
    },
    {
      "cell_type": "markdown",
      "source": [
        "2. Escribe un programa que reciba una edad y determine si la persona es mayor de edad.\n",
        "\n",
        "\n",
        "\n",
        "```\n",
        "1 Algoritmo\n",
        "2 Determina \"edad\" como entero\n",
        "3 Escibir \"Ingrese edad\"\n",
        "4 Leer edad\n",
        "5 si edad>=18 entonces\n",
        "6 Escribir \"La persona es mayor de edad\"\n",
        "7 sino\n",
        "8 Escribir \"La persona es menor de edad\n",
        "9 Fin\n",
        "```\n",
        "\n"
      ],
      "metadata": {
        "id": "bQfx8H57WXl_"
      }
    },
    {
      "cell_type": "markdown",
      "source": [
        "3. Escribe un programa que reciba dos números e imprima el mayor.\n",
        "\n",
        "\n",
        "\n",
        "```\n",
        "1 Algoritmo\n",
        "2 Determinar a, b como entero\n",
        "3 Escribir \"Ingrese dos numeros\"\n",
        "4 Leer el primer numero a\n",
        "5 Leer el segundo numero b\n",
        "6 si a>b entonces\n",
        " Escribir \"Es el numero mayor\"\n",
        "sino\n",
        " Escribir \"No es el numero mayor\"\n",
        "Fin\n",
        "```\n",
        "\n"
      ],
      "metadata": {
        "id": "9FMEhh70XPZO"
      }
    },
    {
      "cell_type": "markdown",
      "source": [
        "4. Escribe un programa que reciba una calificación (0-100) e indique si es Aprobado (>=60) o Reprobado\n",
        "\n",
        "\n",
        "\n",
        "```\n",
        "1 Algoritmo calificacion\n",
        "2 Determinar \"calificacion\" como entero\n",
        "3 Escribir \"Ingrese la calificacion a evaluar\"\n",
        "4 Leer calificacion\n",
        "5 si calificacion>=60 entonces\n",
        "6 Escribir \"Aprobado\"\n",
        "7 sino\n",
        "8 Escribir \"Rerobado\"\n",
        "9 Fin\n",
        "```\n",
        "\n"
      ],
      "metadata": {
        "id": "FsELNG1AYMvW"
      }
    },
    {
      "cell_type": "markdown",
      "source": [
        "5. Escribe un programa que determine si un número es par o impar.\n",
        "\n",
        "\n",
        "\n",
        "```\n",
        "1 Algoritmo par o impar\n",
        "2 Determinar \"c\" como entero\n",
        "3 Escribir \"Ingrese el numero\"\n",
        "4 Leer \"c\"\n",
        "5 si c mod 2=0 entonces\n",
        "6 Escribir \"El numero es par\"\n",
        "7 sino\n",
        "8 Escribir \"El numero es impar\"\n",
        "9 Fin\n",
        "```\n",
        "\n"
      ],
      "metadata": {
        "id": "y-zWY-wRZa61"
      }
    },
    {
      "cell_type": "markdown",
      "source": [
        "6.\tEscribe un programa que reciba tres números e imprima el mayor de los tres.\n",
        "\n",
        "\n",
        "\n",
        "```\n",
        "1 Algoritmo\n",
        "2 Determinar a, b, c\n",
        "3 Escribir \"Ingrese tres numeros\"\n",
        "4 si a>b entonces\n",
        "5 Escribir \"Es el numero mayor\"\n",
        "6 si b>c entonces\n",
        "7 Escribir \"Es el numero mayor\"\n",
        "8 si c>a entonces\n",
        "9 Escribir \"Es el numero mayor\"\n",
        "10 si c>b entonces\n",
        "11 Escribir \"Es el numero mayor\"\n",
        "12 sino\n",
        "13 Escribir \"No imprimir ningun numero\"\n",
        "14 Fin\n",
        "```\n",
        "\n"
      ],
      "metadata": {
        "id": "AlywxiDZaMjL"
      }
    },
    {
      "cell_type": "markdown",
      "source": [
        "7. Escribe un programa que reciba un año e indique si es bisiesto.\n",
        "\n",
        "\n",
        "\n",
        "```\n",
        "1 Algoritmo año\n",
        "2 Determina \"365\" o \"366\"\n",
        "3\n",
        "```\n",
        "\n"
      ],
      "metadata": {
        "id": "z6Fz7ta_bZ8j"
      }
    }
  ]
}