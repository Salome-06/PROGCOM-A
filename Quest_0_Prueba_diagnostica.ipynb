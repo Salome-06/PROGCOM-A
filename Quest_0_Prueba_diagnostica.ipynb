{
  "nbformat": 4,
  "nbformat_minor": 0,
  "metadata": {
    "colab": {
      "provenance": []
    },
    "kernelspec": {
      "name": "python3",
      "display_name": "Python 3"
    },
    "language_info": {
      "name": "python"
    }
  },
  "cells": [
    {
      "cell_type": "markdown",
      "source": [
        "#Prueba diagnostica"
      ],
      "metadata": {
        "id": "ZSDs7vbJJwl6"
      }
    },
    {
      "cell_type": "code",
      "execution_count": null,
      "metadata": {
        "id": "Gl1S-othJCjw"
      },
      "outputs": [],
      "source": []
    },
    {
      "cell_type": "markdown",
      "source": [
        "##Estructuras de seleccion\n",
        "Aqui se desarrollaran ejercicios sobre estructuras de seleccion\n",
        "\n",
        "Por pseint\n",
        "\n",
        "\n",
        "```\n",
        "\n",
        "si (condicion) entonces:\n",
        "   pasan cosas divertidas\n",
        "sino:\n",
        "   llorelo\n",
        "```\n",
        "\n",
        "Por algoritmia\n",
        "\n",
        "1. Solicito la variable y la almaceno en a\n",
        "2. Comparo esa variable con otra llamada b\n"
      ],
      "metadata": {
        "id": "l4hCywfcKMxS"
      }
    }
  ]
}