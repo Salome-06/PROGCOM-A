{
  "nbformat": 4,
  "nbformat_minor": 0,
  "metadata": {
    "colab": {
      "provenance": [],
      "authorship_tag": "ABX9TyO79gtjpy6OEN3KMh05BeNG",
      "include_colab_link": true
    },
    "kernelspec": {
      "name": "python3",
      "display_name": "Python 3"
    },
    "language_info": {
      "name": "python"
    }
  },
  "cells": [
    {
      "cell_type": "markdown",
      "metadata": {
        "id": "view-in-github",
        "colab_type": "text"
      },
      "source": [
        "<a href=\"https://colab.research.google.com/github/Salome-06/PROGCOM-A/blob/main/Ejercicios_de_listas_Salom%C3%A9.ipynb\" target=\"_parent\"><img src=\"https://colab.research.google.com/assets/colab-badge.svg\" alt=\"Open In Colab\"/></a>"
      ]
    },
    {
      "cell_type": "markdown",
      "source": [
        "##Taller de 10 ejercicios sobre listas"
      ],
      "metadata": {
        "id": "TFAvmvzuRD_l"
      }
    },
    {
      "cell_type": "markdown",
      "source": [
        "1. Crear una lista con los cuadrados de los números del 1 al 10."
      ],
      "metadata": {
        "id": "cR6tHnPtRNXC"
      }
    },
    {
      "cell_type": "code",
      "execution_count": 1,
      "metadata": {
        "colab": {
          "base_uri": "https://localhost:8080/"
        },
        "id": "-gMF8TiSRA0Q",
        "outputId": "1656c38d-7b74-45cb-e2a1-1e4ffb46ab78"
      },
      "outputs": [
        {
          "output_type": "stream",
          "name": "stdout",
          "text": [
            "[1, 4, 9, 16, 25, 36, 49, 64, 81, 100]\n"
          ]
        }
      ],
      "source": [
        "cuadrados=[n**2 for n in range(1,11)]\n",
        "print(cuadrados)"
      ]
    },
    {
      "cell_type": "markdown",
      "source": [
        "2. Obtener una lista con los números pares del 0 al 20."
      ],
      "metadata": {
        "id": "eaEoYVYDTEvv"
      }
    },
    {
      "cell_type": "code",
      "source": [
        "pares=[num for num in range(21) if num%2==0]\n",
        "print(pares)"
      ],
      "metadata": {
        "colab": {
          "base_uri": "https://localhost:8080/"
        },
        "id": "h2W4_7-8TGYR",
        "outputId": "65af229c-2d4d-4e25-a3f9-dcdb0dd574ec"
      },
      "execution_count": 2,
      "outputs": [
        {
          "output_type": "stream",
          "name": "stdout",
          "text": [
            "[0, 2, 4, 6, 8, 10, 12, 14, 16, 18, 20]\n"
          ]
        }
      ]
    },
    {
      "cell_type": "markdown",
      "source": [
        "3. Crear una lista con el doble de cada número del 1 al 5."
      ],
      "metadata": {
        "id": "AGge02FsTtpV"
      }
    },
    {
      "cell_type": "code",
      "source": [
        "dobles=[num * 2 for num in range(1,6)]\n",
        "print(dobles)"
      ],
      "metadata": {
        "colab": {
          "base_uri": "https://localhost:8080/"
        },
        "id": "EpV2ZpdVT9xz",
        "outputId": "d9dc9638-56f8-4d5c-ae1c-e9d934ed368d"
      },
      "execution_count": 3,
      "outputs": [
        {
          "output_type": "stream",
          "name": "stdout",
          "text": [
            "[2, 4, 6, 8, 10]\n"
          ]
        }
      ]
    },
    {
      "cell_type": "markdown",
      "source": [
        "4. De la palabra \"programacion\", obtener solo las vocales."
      ],
      "metadata": {
        "id": "ALbCWHCNUdNN"
      }
    },
    {
      "cell_type": "code",
      "source": [
        "palabra=\"programacion\"\n",
        "vocales=[letra for letra in palabra if letra.lower() in \"aeiou\"] #recordar que letra.lower sirve para volver la letra minúscula y analizar si es vocal así este mayúscula\n",
        "print(vocales)"
      ],
      "metadata": {
        "colab": {
          "base_uri": "https://localhost:8080/"
        },
        "id": "wobLzGLAUnBh",
        "outputId": "f166c5d0-4beb-4558-aaa6-5c975e31d35f"
      },
      "execution_count": 7,
      "outputs": [
        {
          "output_type": "stream",
          "name": "stdout",
          "text": [
            "['o', 'a', 'a', 'i', 'o']\n"
          ]
        }
      ]
    },
    {
      "cell_type": "markdown",
      "source": [
        "5. Dada la lista [\"python\", \"java\", \"c++\"], obtener otra lista con las palabras en mayúsculas."
      ],
      "metadata": {
        "id": "SdOpOvRFVjkg"
      }
    },
    {
      "cell_type": "code",
      "source": [
        "programas=[\"python, java, c++\"]\n",
        "programas_mayuscula=[palabra.upper() for palabra in programas]\n",
        "print(programas_mayuscula)"
      ],
      "metadata": {
        "colab": {
          "base_uri": "https://localhost:8080/"
        },
        "id": "fBNXpL9eV17Y",
        "outputId": "03ef4be8-eb2d-4f45-b662-ff5ac9a14606"
      },
      "execution_count": 8,
      "outputs": [
        {
          "output_type": "stream",
          "name": "stdout",
          "text": [
            "['PYTHON, JAVA, C++']\n"
          ]
        }
      ]
    },
    {
      "cell_type": "markdown",
      "source": [
        "6. Crear una lista con \"par\" o \"impar\" para los números del 1 al 10."
      ],
      "metadata": {
        "id": "EPCOWfd8WklM"
      }
    },
    {
      "cell_type": "code",
      "source": [
        "numeros=[]\n",
        "for i in range(10):\n",
        "  resultado=int(input(\"Ingrese el numero: \"))\n",
        "  numeros.append(resultado)\n",
        "lista1=[\"par\" if num%2==0 else \"impar\" for num in numeros]\n",
        "print(lista1)"
      ],
      "metadata": {
        "colab": {
          "base_uri": "https://localhost:8080/"
        },
        "id": "z73VfpoOWmOz",
        "outputId": "83c1a659-c289-400a-dd8d-e501cd423c8b"
      },
      "execution_count": 12,
      "outputs": [
        {
          "output_type": "stream",
          "name": "stdout",
          "text": [
            "Ingrese el numero: 1\n",
            "Ingrese el numero: 2\n",
            "Ingrese el numero: 3\n",
            "Ingrese el numero: 4\n",
            "Ingrese el numero: 5\n",
            "Ingrese el numero: 6\n",
            "Ingrese el numero: 7\n",
            "Ingrese el numero: 8\n",
            "Ingrese el numero: 9\n",
            "Ingrese el numero: 10\n",
            "['impar', 'par', 'impar', 'par', 'impar', 'par', 'impar', 'par', 'impar', 'par']\n"
          ]
        }
      ]
    },
    {
      "cell_type": "markdown",
      "source": [
        "7. Generar una lista de tuplas con el número y su cuadrado del 1 al 5."
      ],
      "metadata": {
        "id": "m6rNYsl5YyZ1"
      }
    },
    {
      "cell_type": "code",
      "source": [
        "cuadrados_tuplas=[(num, num**2) for num in range(1,6)]\n",
        "print(cuadrados_tuplas)"
      ],
      "metadata": {
        "colab": {
          "base_uri": "https://localhost:8080/"
        },
        "id": "Qgp7eNVaY7wc",
        "outputId": "d81caf28-fc8b-41f4-f344-93291d3c2cba"
      },
      "execution_count": 13,
      "outputs": [
        {
          "output_type": "stream",
          "name": "stdout",
          "text": [
            "[(1, 1), (2, 4), (3, 9), (4, 16), (5, 25)]\n"
          ]
        }
      ]
    },
    {
      "cell_type": "markdown",
      "source": [
        "8. Crear una lista con todas las combinaciones de letras en [\"a\",\"b\"] y números en [1,2,3]."
      ],
      "metadata": {
        "id": "NAXL1VKyZvCZ"
      }
    },
    {
      "cell_type": "code",
      "source": [
        "letras=[\"a\", \"b\"]\n",
        "numeros=[1, 2, 3]\n",
        "combinaciones=[(letra, numero) for letra in letras for numero in numeros]\n",
        "print(combinaciones)"
      ],
      "metadata": {
        "colab": {
          "base_uri": "https://localhost:8080/"
        },
        "id": "2X4r07sRZ47q",
        "outputId": "bd50cffd-9c73-4dce-c246-b40971785373"
      },
      "execution_count": 14,
      "outputs": [
        {
          "output_type": "stream",
          "name": "stdout",
          "text": [
            "[('a', 1), ('a', 2), ('a', 3), ('b', 1), ('b', 2), ('b', 3)]\n"
          ]
        }
      ]
    },
    {
      "cell_type": "markdown",
      "source": [
        "9. De la lista [\"sol\", \"estrella\", \"mar\", \"planeta\"], obtener solo las palabras con más de 4 letras"
      ],
      "metadata": {
        "id": "Udq1J_ZHaUeH"
      }
    },
    {
      "cell_type": "code",
      "source": [
        "palabras=[\"sol\", \"estrella\", \"mar\", \"planeta\"]\n",
        "palabras_largas=[p for p in palabras if len(p) > 4]\n",
        "print(palabras_largas)"
      ],
      "metadata": {
        "colab": {
          "base_uri": "https://localhost:8080/"
        },
        "id": "0o6V9WBoaa-s",
        "outputId": "9e724da3-6a56-470c-ecda-013a0b7ef1f6"
      },
      "execution_count": 15,
      "outputs": [
        {
          "output_type": "stream",
          "name": "stdout",
          "text": [
            "['estrella', 'planeta']\n"
          ]
        }
      ]
    },
    {
      "cell_type": "markdown",
      "source": [
        "10. Clasificar la temperatura de una lista. Si la temperatura es menor a 26, el clima es \"frío\". Si está entre 26 a 29, es \"templado\". Si es mayor a 29, el clima es \"caliente\""
      ],
      "metadata": {
        "id": "pbGl4cTobBhV"
      }
    },
    {
      "cell_type": "code",
      "source": [
        "temperaturas=[]\n",
        "for i in range(10):\n",
        "  celsius=int(input(\"Ingrese la temperatura: \"))\n",
        "  temperaturas.append(celsius)\n",
        "lista2=[(n, \"templado\") if n>19 and n<=25 else (n, \"frio\") if n<19 else (n, \"caliente\") for n in temperaturas]\n",
        "lista2"
      ],
      "metadata": {
        "colab": {
          "base_uri": "https://localhost:8080/"
        },
        "id": "lY0KuwwzbF7I",
        "outputId": "f4591c1a-38fc-47cf-8ff6-e49743e64188"
      },
      "execution_count": 16,
      "outputs": [
        {
          "name": "stdout",
          "output_type": "stream",
          "text": [
            "Ingrese la temperatura: 1\n",
            "Ingrese la temperatura: 2\n",
            "Ingrese la temperatura: 3\n",
            "Ingrese la temperatura: 4\n",
            "Ingrese la temperatura: 5\n",
            "Ingrese la temperatura: 6\n",
            "Ingrese la temperatura: 7\n",
            "Ingrese la temperatura: 15\n",
            "Ingrese la temperatura: 25\n",
            "Ingrese la temperatura: 27\n"
          ]
        },
        {
          "output_type": "execute_result",
          "data": {
            "text/plain": [
              "[(1, 'frio'),\n",
              " (2, 'frio'),\n",
              " (3, 'frio'),\n",
              " (4, 'frio'),\n",
              " (5, 'frio'),\n",
              " (6, 'frio'),\n",
              " (7, 'frio'),\n",
              " (15, 'frio'),\n",
              " (25, 'templado'),\n",
              " (27, 'caliente')]"
            ]
          },
          "metadata": {},
          "execution_count": 16
        }
      ]
    }
  ]
}