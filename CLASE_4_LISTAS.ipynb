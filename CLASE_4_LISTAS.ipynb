{
  "nbformat": 4,
  "nbformat_minor": 0,
  "metadata": {
    "colab": {
      "provenance": [],
      "authorship_tag": "ABX9TyPF/fgqhodcL7q0xmY5lOMs",
      "include_colab_link": true
    },
    "kernelspec": {
      "name": "python3",
      "display_name": "Python 3"
    },
    "language_info": {
      "name": "python"
    }
  },
  "cells": [
    {
      "cell_type": "markdown",
      "metadata": {
        "id": "view-in-github",
        "colab_type": "text"
      },
      "source": [
        "<a href=\"https://colab.research.google.com/github/Salome-06/PROGCOM-A/blob/main/CLASE_4_LISTAS.ipynb\" target=\"_parent\"><img src=\"https://colab.research.google.com/assets/colab-badge.svg\" alt=\"Open In Colab\"/></a>"
      ]
    },
    {
      "cell_type": "markdown",
      "source": [
        "##LISTAS\n",
        "1. Conjunto de datos\n",
        "2. Es mutable. (5000xp)\n",
        "3. Tienen indexación\n",
        "\n"
      ],
      "metadata": {
        "id": "lbq3nhvWCkH3"
      }
    },
    {
      "cell_type": "code",
      "execution_count": 2,
      "metadata": {
        "colab": {
          "base_uri": "https://localhost:8080/",
          "height": 35
        },
        "id": "OOnLqpnjB7p6",
        "outputId": "5d22bb0a-f789-4ba7-f89f-3da45d8f1719"
      },
      "outputs": [
        {
          "output_type": "execute_result",
          "data": {
            "text/plain": [
              "'maria'"
            ],
            "application/vnd.google.colaboratory.intrinsic+json": {
              "type": "string"
            }
          },
          "metadata": {},
          "execution_count": 2
        }
      ],
      "source": [
        "lista=[\"maria\",4,True,\"hola\"]\n",
        "lista[0]"
      ]
    },
    {
      "cell_type": "markdown",
      "source": [
        "4. Son ordenadas\n",
        "\n",
        "Forma genérica\n",
        "\n",
        "\n",
        "```\n",
        "nombre_de_la_lista=[e1,e2,e3,e4...en]\n",
        "```\n",
        "\n"
      ],
      "metadata": {
        "id": "Ew2Gg4HcDk8m"
      }
    },
    {
      "cell_type": "code",
      "source": [
        "lista[5] #EJEMPLO INCORRECTO DE CÓMO HACER LA LISTA"
      ],
      "metadata": {
        "colab": {
          "base_uri": "https://localhost:8080/",
          "height": 141
        },
        "id": "-bWGKpmgEXVM",
        "outputId": "edc85965-212d-47a3-f63c-4c87eb157c42"
      },
      "execution_count": 3,
      "outputs": [
        {
          "output_type": "error",
          "ename": "IndexError",
          "evalue": "list index out of range",
          "traceback": [
            "\u001b[0;31m---------------------------------------------------------------------------\u001b[0m",
            "\u001b[0;31mIndexError\u001b[0m                                Traceback (most recent call last)",
            "\u001b[0;32m/tmp/ipython-input-2920324198.py\u001b[0m in \u001b[0;36m<cell line: 0>\u001b[0;34m()\u001b[0m\n\u001b[0;32m----> 1\u001b[0;31m \u001b[0mlista\u001b[0m\u001b[0;34m[\u001b[0m\u001b[0;36m5\u001b[0m\u001b[0;34m]\u001b[0m\u001b[0;34m\u001b[0m\u001b[0;34m\u001b[0m\u001b[0m\n\u001b[0m",
            "\u001b[0;31mIndexError\u001b[0m: list index out of range"
          ]
        }
      ]
    },
    {
      "cell_type": "code",
      "source": [
        "#Obteniendo el último elemento de la lista EJEMPLO CORRECTO\n",
        "lista[len(lista)-1]"
      ],
      "metadata": {
        "colab": {
          "base_uri": "https://localhost:8080/",
          "height": 35
        },
        "id": "XbqsS2M-Elgb",
        "outputId": "9076df9d-35f4-443f-8e89-116166cec595"
      },
      "execution_count": 4,
      "outputs": [
        {
          "output_type": "execute_result",
          "data": {
            "text/plain": [
              "'hola'"
            ],
            "application/vnd.google.colaboratory.intrinsic+json": {
              "type": "string"
            }
          },
          "metadata": {},
          "execution_count": 4
        }
      ]
    },
    {
      "cell_type": "code",
      "source": [
        "lista[-1]"
      ],
      "metadata": {
        "colab": {
          "base_uri": "https://localhost:8080/",
          "height": 35
        },
        "id": "_SGxxLkDE_Jl",
        "outputId": "0cbcf2e3-8564-47a2-eff9-85a1a52bf085"
      },
      "execution_count": 5,
      "outputs": [
        {
          "output_type": "execute_result",
          "data": {
            "text/plain": [
              "'hola'"
            ],
            "application/vnd.google.colaboratory.intrinsic+json": {
              "type": "string"
            }
          },
          "metadata": {},
          "execution_count": 5
        }
      ]
    },
    {
      "cell_type": "code",
      "source": [
        "lista[:2] #Imprime las dos primeras posiciones (0 y 2)"
      ],
      "metadata": {
        "colab": {
          "base_uri": "https://localhost:8080/"
        },
        "id": "tyXsn0EoFuH8",
        "outputId": "8539d723-485c-4095-c390-84e957ba6e18"
      },
      "execution_count": 6,
      "outputs": [
        {
          "output_type": "execute_result",
          "data": {
            "text/plain": [
              "['maria', 4]"
            ]
          },
          "metadata": {},
          "execution_count": 6
        }
      ]
    },
    {
      "cell_type": "code",
      "source": [
        "lista[:] #El despues de los dos puntos define hasta donde imprimo"
      ],
      "metadata": {
        "colab": {
          "base_uri": "https://localhost:8080/"
        },
        "id": "HHRNfr8YF2ky",
        "outputId": "7c888396-62ce-4929-a235-1ac7959d6e7a"
      },
      "execution_count": 7,
      "outputs": [
        {
          "output_type": "execute_result",
          "data": {
            "text/plain": [
              "['maria', 4, True, 'hola']"
            ]
          },
          "metadata": {},
          "execution_count": 7
        }
      ]
    },
    {
      "cell_type": "code",
      "source": [
        "lista[0:]"
      ],
      "metadata": {
        "colab": {
          "base_uri": "https://localhost:8080/"
        },
        "id": "CKZ7L878F7qy",
        "outputId": "adf9ab1d-415d-4d61-90d4-029647a08cb5"
      },
      "execution_count": 8,
      "outputs": [
        {
          "output_type": "execute_result",
          "data": {
            "text/plain": [
              "['maria', 4, True, 'hola']"
            ]
          },
          "metadata": {},
          "execution_count": 8
        }
      ]
    },
    {
      "cell_type": "code",
      "source": [
        "lista[:-1]"
      ],
      "metadata": {
        "colab": {
          "base_uri": "https://localhost:8080/"
        },
        "id": "2M8dWpvdGNIS",
        "outputId": "a59ce0ab-a5b4-4eac-e8d9-49001aa3e934"
      },
      "execution_count": 10,
      "outputs": [
        {
          "output_type": "execute_result",
          "data": {
            "text/plain": [
              "['maria', 4, True]"
            ]
          },
          "metadata": {},
          "execution_count": 10
        }
      ]
    },
    {
      "cell_type": "code",
      "source": [
        "lista[-1:]"
      ],
      "metadata": {
        "colab": {
          "base_uri": "https://localhost:8080/"
        },
        "id": "Dfsltg1WGJhi",
        "outputId": "e4240c1b-9868-4e33-aa7c-75d1e6f715ed"
      },
      "execution_count": 9,
      "outputs": [
        {
          "output_type": "execute_result",
          "data": {
            "text/plain": [
              "['hola']"
            ]
          },
          "metadata": {},
          "execution_count": 9
        }
      ]
    },
    {
      "cell_type": "code",
      "source": [
        "lista[1:4] #imprime del elemento 0, 1 y 2"
      ],
      "metadata": {
        "colab": {
          "base_uri": "https://localhost:8080/"
        },
        "id": "YetBpO4TGUzq",
        "outputId": "842f6777-84b9-4a50-f932-31c2a10ccf87"
      },
      "execution_count": 12,
      "outputs": [
        {
          "output_type": "execute_result",
          "data": {
            "text/plain": [
              "[4, True, 'hola']"
            ]
          },
          "metadata": {},
          "execution_count": 12
        }
      ]
    },
    {
      "cell_type": "code",
      "source": [
        "for i in lista:\n",
        "  #Va a iterar 4 veces\n",
        "  #i va a tomar por vez el elemento de la lista\n",
        "  print (i)"
      ],
      "metadata": {
        "colab": {
          "base_uri": "https://localhost:8080/"
        },
        "id": "_DGIBagiGuEi",
        "outputId": "df0c1bb6-4101-4c13-dd70-52eaee61ae49"
      },
      "execution_count": 13,
      "outputs": [
        {
          "output_type": "stream",
          "name": "stdout",
          "text": [
            "maria\n",
            "4\n",
            "True\n",
            "hola\n"
          ]
        }
      ]
    },
    {
      "cell_type": "code",
      "source": [
        "#Lista por extension\n",
        "num=[1,2,3,4,5,6,7,8,9,10]\n",
        "num2=list(range(1,11))\n",
        "print(num2)"
      ],
      "metadata": {
        "colab": {
          "base_uri": "https://localhost:8080/"
        },
        "id": "OBwE61MIHa-k",
        "outputId": "c104616c-b28b-49bb-b583-21b6aad0ece5"
      },
      "execution_count": 15,
      "outputs": [
        {
          "output_type": "stream",
          "name": "stdout",
          "text": [
            "[1, 2, 3, 4, 5, 6, 7, 8, 9, 10]\n"
          ]
        }
      ]
    },
    {
      "cell_type": "markdown",
      "source": [
        "##Listas por comprensión\n",
        "Forma nueva de generar listas a partir de un expresión\n",
        "Sintaxis:\n",
        "\n",
        "\n",
        "```\n",
        "nombre_lista=[expresión for item in iterable if condición]\n",
        "```\n",
        "\n",
        "Donde:\n",
        "1. Expresión:Es el valor que generará la nueva lista\n",
        "2. item: variable que representa cada elemento dentro de la iteración\n",
        "3. iterable: Cuántos elementos va a tener la nueva lista\n",
        "4. Condición: es opcional y se emplea i los elementos deben cumplir algo"
      ],
      "metadata": {
        "id": "-y2a78GqH1SE"
      }
    },
    {
      "cell_type": "code",
      "source": [
        "#Convertir una lista de oraciones en una lista de palabras\n",
        "oraciones=[\"Aquí va una oración\", \"Aquí va otra oración\", \"Aquí va la tercera oración\"]\n",
        "palabras=[i.split() for i in oraciones]\n",
        "palabras"
      ],
      "metadata": {
        "colab": {
          "base_uri": "https://localhost:8080/"
        },
        "id": "_Y9fOfPtI0uI",
        "outputId": "86e52678-503c-4788-b4d2-01239ec69243"
      },
      "execution_count": 18,
      "outputs": [
        {
          "output_type": "execute_result",
          "data": {
            "text/plain": [
              "[['Aquí', 'va', 'una', 'oración'],\n",
              " ['Aquí', 'va', 'otra', 'oración'],\n",
              " ['Aquí', 'va', 'la', 'tercera', 'oración']]"
            ]
          },
          "metadata": {},
          "execution_count": 18
        }
      ]
    },
    {
      "cell_type": "code",
      "source": [
        "#Lista con los pares de num2\n",
        "pares=[num for num in num2 if num%2==0] #1num: lo que se va imprimir, 2num tomo dos\n",
        "pares"
      ],
      "metadata": {
        "colab": {
          "base_uri": "https://localhost:8080/"
        },
        "id": "UMJOLgoOJ7rX",
        "outputId": "7c11784b-cba4-440c-8b6f-c1dfe8b96c3a"
      },
      "execution_count": 19,
      "outputs": [
        {
          "output_type": "execute_result",
          "data": {
            "text/plain": [
              "[2, 4, 6, 8, 10]"
            ]
          },
          "metadata": {},
          "execution_count": 19
        }
      ]
    },
    {
      "cell_type": "code",
      "source": [
        "3%2"
      ],
      "metadata": {
        "colab": {
          "base_uri": "https://localhost:8080/"
        },
        "id": "jVY0sPWmLV4d",
        "outputId": "14ac85e9-4ef1-4196-c6f7-0da1ed638e0b"
      },
      "execution_count": 20,
      "outputs": [
        {
          "output_type": "execute_result",
          "data": {
            "text/plain": [
              "1"
            ]
          },
          "metadata": {},
          "execution_count": 20
        }
      ]
    },
    {
      "cell_type": "code",
      "source": [
        "divisibles=[num for num in num2 if num%3==0]\n",
        "divisibles"
      ],
      "metadata": {
        "colab": {
          "base_uri": "https://localhost:8080/"
        },
        "id": "vgcszlBeLdsV",
        "outputId": "2c9043a5-8392-43a4-f6b6-c9842b86b481"
      },
      "execution_count": 21,
      "outputs": [
        {
          "output_type": "execute_result",
          "data": {
            "text/plain": [
              "[3, 6, 9]"
            ]
          },
          "metadata": {},
          "execution_count": 21
        }
      ]
    },
    {
      "cell_type": "code",
      "source": [
        "#Clasificar si un numero es positivo o negativo\n",
        "numeros=[1,4,6,-20,-2,-69,4]\n",
        "lista2=[(n,\"positivo\") if n>0 else (n, \"negativo\") for n in numeros]\n",
        "lista2"
      ],
      "metadata": {
        "colab": {
          "base_uri": "https://localhost:8080/"
        },
        "id": "SeuOPsQRLxBI",
        "outputId": "626113db-f5ab-4640-d38f-789e125c963d"
      },
      "execution_count": 24,
      "outputs": [
        {
          "output_type": "execute_result",
          "data": {
            "text/plain": [
              "[(1, 'positivo'),\n",
              " (4, 'positivo'),\n",
              " (6, 'positivo'),\n",
              " (-20, 'negativo'),\n",
              " (-2, 'negativo'),\n",
              " (-69, 'negativo'),\n",
              " (4, 'positivo')]"
            ]
          },
          "metadata": {},
          "execution_count": 24
        }
      ]
    },
    {
      "cell_type": "code",
      "source": [
        "temperaturas=[]\n",
        "for i in range(10):\n",
        "  celsius=int(input(\"Ingrese la temperatura\"))\n",
        "  temperaturas.append(celsius)\n",
        "lista3=[(n,\"templado\") if n>=19 and n<=25 else (n, \"frio\") if n<19 else (n, \"caliente\") for n in temperaturas]\n",
        "lista3"
      ],
      "metadata": {
        "colab": {
          "base_uri": "https://localhost:8080/"
        },
        "id": "RTClQzC3MSb8",
        "outputId": "d7e54723-eaa4-450c-afb3-ac40fc022b27"
      },
      "execution_count": 40,
      "outputs": [
        {
          "name": "stdout",
          "output_type": "stream",
          "text": [
            "Ingrese la temperatura1\n",
            "Ingrese la temperatura2\n",
            "Ingrese la temperatura3\n",
            "Ingrese la temperatura4\n",
            "Ingrese la temperatura5\n",
            "Ingrese la temperatura20\n",
            "Ingrese la temperatura27\n",
            "Ingrese la temperatura12\n",
            "Ingrese la temperatura13\n",
            "Ingrese la temperatura1\n"
          ]
        },
        {
          "output_type": "execute_result",
          "data": {
            "text/plain": [
              "[(1, 'frio'),\n",
              " (2, 'frio'),\n",
              " (3, 'frio'),\n",
              " (4, 'frio'),\n",
              " (5, 'frio'),\n",
              " (20, 'templado'),\n",
              " (27, 'caliente'),\n",
              " (12, 'frio'),\n",
              " (13, 'frio'),\n",
              " (1, 'frio')]"
            ]
          },
          "metadata": {},
          "execution_count": 40
        }
      ]
    },
    {
      "cell_type": "code",
      "source": [
        "#Quiero obtener la inicial de nombres y ponerlo en mayuscula\n",
        "nombres=[\"camilo\", \"anderson\", \"joan\"]\n",
        "lista3=[x[0].upper() for x in nombres]\n",
        "lista3"
      ],
      "metadata": {
        "colab": {
          "base_uri": "https://localhost:8080/"
        },
        "id": "wRn6jRxRQObR",
        "outputId": "17670f3e-dc91-4d1f-d7c6-c2ed00e3d2f7"
      },
      "execution_count": 42,
      "outputs": [
        {
          "output_type": "execute_result",
          "data": {
            "text/plain": [
              "['C', 'A', 'J']"
            ]
          },
          "metadata": {},
          "execution_count": 42
        }
      ]
    }
  ]
}