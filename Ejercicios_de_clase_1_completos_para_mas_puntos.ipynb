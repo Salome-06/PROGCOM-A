{
  "nbformat": 4,
  "nbformat_minor": 0,
  "metadata": {
    "colab": {
      "provenance": [],
      "authorship_tag": "ABX9TyOTslEnb2aHz+V+AWCAeEwZ",
      "include_colab_link": true
    },
    "kernelspec": {
      "name": "python3",
      "display_name": "Python 3"
    },
    "language_info": {
      "name": "python"
    }
  },
  "cells": [
    {
      "cell_type": "markdown",
      "metadata": {
        "id": "view-in-github",
        "colab_type": "text"
      },
      "source": [
        "<a href=\"https://colab.research.google.com/github/Salome-06/PROGCOM-A/blob/main/Ejercicios_de_clase_1_completos_para_mas_puntos.ipynb\" target=\"_parent\"><img src=\"https://colab.research.google.com/assets/colab-badge.svg\" alt=\"Open In Colab\"/></a>"
      ]
    },
    {
      "cell_type": "markdown",
      "source": [
        "2.Escribe un programa que reciba una edad y Escribe un programa que reciba una edad y determine si la persona es mayor de edad.\n",
        " si la persona es mayor de edad.\n"
      ],
      "metadata": {
        "id": "FS8Ad8bF6tv3"
      }
    },
    {
      "cell_type": "code",
      "source": [
        "edad = int(input(\"Ingresa tu edad: \"))\n",
        "if edad >= 18:\n",
        " print(\"Eres mayor de edad\")\n",
        "else:\n",
        " print(\"Eres menor de edad\")\n",
        ""
      ],
      "metadata": {
        "colab": {
          "base_uri": "https://localhost:8080/"
        },
        "id": "IMpBQhuJ6-a3",
        "outputId": "1a1214ca-3817-409c-c976-52691be6eb42"
      },
      "execution_count": 1,
      "outputs": [
        {
          "output_type": "stream",
          "name": "stdout",
          "text": [
            "Ingresa tu edad: 18\n",
            "Eres mayor de edad\n"
          ]
        }
      ]
    },
    {
      "cell_type": "code",
      "source": [
        "edad = int(input(\"Ingresa tu edad: \"))\n",
        "if edad== 0:\n",
        "  print (\"La edad es 0\")\n",
        "elif edad >= 18:\n",
        "  print(\"Eres mayor de edad\")\n",
        "else:\n",
        "  print(\"Eres menor de edad\")"
      ],
      "metadata": {
        "colab": {
          "base_uri": "https://localhost:8080/"
        },
        "id": "P3YboJ-6_t_V",
        "outputId": "35dfbe1f-9011-4b1e-b1d9-bb076ab6756b"
      },
      "execution_count": 31,
      "outputs": [
        {
          "output_type": "stream",
          "name": "stdout",
          "text": [
            "Ingresa tu edad: 17\n",
            "Eres menor de edad\n"
          ]
        }
      ]
    },
    {
      "cell_type": "code",
      "source": [
        "(print(\"Eres mayor de edad\")) if edad >= 18 else print(\"Eres menor de edad\")"
      ],
      "metadata": {
        "colab": {
          "base_uri": "https://localhost:8080/"
        },
        "id": "by7sSfib7rT_",
        "outputId": "00821ddb-8bfc-4aad-edf0-b5e491b02d7e"
      },
      "execution_count": 4,
      "outputs": [
        {
          "output_type": "stream",
          "name": "stdout",
          "text": [
            "Eres mayor de edad\n"
          ]
        }
      ]
    },
    {
      "cell_type": "markdown",
      "source": [
        "3. Escribe un programa que reciba dos números e imprima el mayor.\n"
      ],
      "metadata": {
        "id": "4h0_eBym7t2d"
      }
    },
    {
      "cell_type": "code",
      "source": [
        "n1=int(input(\"ingresa un numero\"))\n",
        "n2=int(input(\"ingresa otro numero\"))\n",
        "if n1>n2:\n",
        "  print(n1, \"es mayor\")\n",
        "else:\n",
        "  n2>n1\n",
        "  print(n2, \"es mayor\")"
      ],
      "metadata": {
        "colab": {
          "base_uri": "https://localhost:8080/"
        },
        "id": "RE0Dz8Pj7x50",
        "outputId": "eb25a720-d625-4170-885d-fd24bf2d49f9"
      },
      "execution_count": 28,
      "outputs": [
        {
          "output_type": "stream",
          "name": "stdout",
          "text": [
            "ingresa un numero10\n",
            "ingresa otro numero18\n",
            "18 es mayor\n"
          ]
        }
      ]
    },
    {
      "cell_type": "code",
      "source": [
        "if n1>n2:print(f\"{n} es mayor\")\n",
        "elif n2>n1:print(f\"{n} es mayor\")\n",
        "else:print(f\"NO es mayor\")"
      ],
      "metadata": {
        "colab": {
          "base_uri": "https://localhost:8080/"
        },
        "id": "jJPP9m1Z75uz",
        "outputId": "f98c6874-fdfb-43ec-bbce-9951eb2dbba7"
      },
      "execution_count": 29,
      "outputs": [
        {
          "output_type": "stream",
          "name": "stdout",
          "text": [
            "98 es mayor\n"
          ]
        }
      ]
    },
    {
      "cell_type": "code",
      "source": [
        "print(f\"{n} es mayor\") if n1>n2 else print(f\"{n} es mayor \")"
      ],
      "metadata": {
        "colab": {
          "base_uri": "https://localhost:8080/"
        },
        "id": "evqMlwgJ79L2",
        "outputId": "7db979b4-c8ec-4ea5-d9f0-801bbffb38a9"
      },
      "execution_count": 30,
      "outputs": [
        {
          "output_type": "stream",
          "name": "stdout",
          "text": [
            "98 es mayor \n"
          ]
        }
      ]
    },
    {
      "cell_type": "markdown",
      "source": [
        "4. Escribe un programa que reciba una calificación (0-100) e indique si es Aprobado (>=60) o Reprobado."
      ],
      "metadata": {
        "id": "_Mo5WPDk8AmT"
      }
    },
    {
      "cell_type": "code",
      "source": [
        "n=int(input(\"Ingrese su calificacion\"))\n",
        "if n>=60:\n",
        "  print (f\"{n} aprobo\")\n",
        "else:\n",
        "  print (n, \"No aprobo\")"
      ],
      "metadata": {
        "colab": {
          "base_uri": "https://localhost:8080/"
        },
        "id": "1HiAvSl78IRl",
        "outputId": "f5f21c31-bad4-4d55-dc8c-7e0ccbf3e56c"
      },
      "execution_count": 25,
      "outputs": [
        {
          "output_type": "stream",
          "name": "stdout",
          "text": [
            "Ingrese su calificacion10\n",
            "10 No aprobo\n"
          ]
        }
      ]
    },
    {
      "cell_type": "code",
      "source": [
        "n=int(input(\"Ingrese su calificacion\"))\n",
        "if n>=60:\n",
        "    print (f\"{n} aprobo\")\n",
        "elif n<60:\n",
        "    print (n, \"No aprobo\")\n",
        "else:\n",
        "  print(f\"(n) es 0\")"
      ],
      "metadata": {
        "colab": {
          "base_uri": "https://localhost:8080/"
        },
        "id": "nRzpQLh18Ll2",
        "outputId": "85484140-e823-4b64-d321-b98b1d1ab19c"
      },
      "execution_count": 26,
      "outputs": [
        {
          "output_type": "stream",
          "name": "stdout",
          "text": [
            "Ingrese su calificacion90\n",
            "90 aprobo\n"
          ]
        }
      ]
    },
    {
      "cell_type": "code",
      "source": [
        "n=int(input(\"Ingrese su calificacion\"))\n",
        "print (f\"(n) Aprobo\") if n>=60 else print(f\"(n) No aprobo\")"
      ],
      "metadata": {
        "colab": {
          "base_uri": "https://localhost:8080/"
        },
        "id": "7WkLTMVU8P3h",
        "outputId": "5583044c-4743-44dc-c0ef-309cd04fd53e"
      },
      "execution_count": 27,
      "outputs": [
        {
          "output_type": "stream",
          "name": "stdout",
          "text": [
            "Ingrese su calificacion98\n",
            "(n) Aprobo\n"
          ]
        }
      ]
    },
    {
      "cell_type": "markdown",
      "source": [
        "5. Escribe un programa que determine si un número es par o impar."
      ],
      "metadata": {
        "id": "flv59vVY8TFe"
      }
    },
    {
      "cell_type": "code",
      "source": [
        "a=int(input(\"Ingrese un número\"))\n",
        "if a%2==0:\n",
        " print (f\"{a} es un número par\")\n",
        "else:\n",
        " print (a, \"es un número impar\")"
      ],
      "metadata": {
        "colab": {
          "base_uri": "https://localhost:8080/"
        },
        "id": "NckoFgWo8Yz_",
        "outputId": "937d1895-aefb-461a-d7eb-b5e7b247b6b5"
      },
      "execution_count": 22,
      "outputs": [
        {
          "output_type": "stream",
          "name": "stdout",
          "text": [
            "Ingrese un número6\n",
            "6 es un número par\n"
          ]
        }
      ]
    },
    {
      "cell_type": "code",
      "source": [
        "a=int(input(\"Ingrese un número \"))\n",
        "if a==0:\n",
        " print (a, \"es 0\")\n",
        "elif a%2==0:\n",
        " print (f\"{a} es un número par\")\n",
        "else:\n",
        " print (a, \"es un número impar\")"
      ],
      "metadata": {
        "colab": {
          "base_uri": "https://localhost:8080/"
        },
        "id": "BZHxbD8W8cHR",
        "outputId": "a004ec4d-4629-40e4-ec04-352b225d0568"
      },
      "execution_count": 23,
      "outputs": [
        {
          "output_type": "stream",
          "name": "stdout",
          "text": [
            "Ingrese un número 5\n",
            "5 es un número impar\n"
          ]
        }
      ]
    },
    {
      "cell_type": "code",
      "source": [
        "print(\" El número es par\") if n % 2 == 0 else print(\"El número es impar\")"
      ],
      "metadata": {
        "colab": {
          "base_uri": "https://localhost:8080/"
        },
        "id": "7eO3vWoz8oFl",
        "outputId": "e15fb554-d4de-4299-855a-8402defa681c"
      },
      "execution_count": 24,
      "outputs": [
        {
          "output_type": "stream",
          "name": "stdout",
          "text": [
            " El número es par\n"
          ]
        }
      ]
    },
    {
      "cell_type": "markdown",
      "source": [
        "6. Escribe un programa que reciba tres números e imprima el mayor de los tres.\n"
      ],
      "metadata": {
        "id": "bWtH9Jgm8pM6"
      }
    },
    {
      "cell_type": "code",
      "source": [
        "n=int(input(\"Ingrese un número \"))\n",
        "m=int(input(\"Ingrese un número \"))\n",
        "p=int(input(\"Ingrese un número \"))\n",
        "if n>m and n>p:\n",
        " print (f\"{n} es mayor\")\n",
        "elif m>n and m>p:\n",
        "  print(f\"{m} es mayor\")\n",
        "else:\n",
        " print(p, \"es mayor\")"
      ],
      "metadata": {
        "colab": {
          "base_uri": "https://localhost:8080/"
        },
        "id": "fckigbpb8uoQ",
        "outputId": "bb4b4186-6071-4fa1-9382-22408d5817bd"
      },
      "execution_count": 19,
      "outputs": [
        {
          "output_type": "stream",
          "name": "stdout",
          "text": [
            "Ingrese un número 10\n",
            "Ingrese un número 12\n",
            "Ingrese un número 13\n",
            "13 es mayor\n"
          ]
        }
      ]
    },
    {
      "cell_type": "code",
      "source": [
        "n=int(input(\"Ingrese un número \"))\n",
        "m=int(input(\"Ingrese un número \"))\n",
        "p=int(input(\"Ingrese un número \"))\n",
        "if n>m and n>p:\n",
        " print (f\"{n} es el mayor\")\n",
        "elif m>n and m>p:\n",
        "  print(f\"{m} es el mayor\")\n",
        "else:\n",
        " print(p, \"es el mayor\")\n",
        ""
      ],
      "metadata": {
        "colab": {
          "base_uri": "https://localhost:8080/"
        },
        "id": "afJiZYq_8xr2",
        "outputId": "fff31102-edd2-4ea3-efce-0f5d1be05ba7"
      },
      "execution_count": 20,
      "outputs": [
        {
          "output_type": "stream",
          "name": "stdout",
          "text": [
            "Ingrese un número 10\n",
            "Ingrese un número 15\n",
            "Ingrese un número 18\n",
            "18 es el mayor\n"
          ]
        }
      ]
    },
    {
      "cell_type": "code",
      "source": [
        "print (f\"{n} es el mayor\") if n>m and n>p else print((f\"{m} es el mayor\")) if  m>n and m>p else print(p, \"es el mayor\")"
      ],
      "metadata": {
        "colab": {
          "base_uri": "https://localhost:8080/"
        },
        "id": "H5ocGPpA829S",
        "outputId": "b5b49f9c-8e74-4146-9e7d-b66f95dee7ef"
      },
      "execution_count": 21,
      "outputs": [
        {
          "output_type": "stream",
          "name": "stdout",
          "text": [
            "18 es el mayor\n"
          ]
        }
      ]
    },
    {
      "cell_type": "markdown",
      "source": [
        "7. Escribe un programa que reciba un año e indique si es bisiesto.\n"
      ],
      "metadata": {
        "id": "V5Ntd5u1886N"
      }
    },
    {
      "cell_type": "code",
      "source": [
        "print(\"calcula un año bisiesto\")\n",
        "a = int(input(\"digite un año al azar\"))\n",
        "if a % 4 == 0 and a % 400 == 0:\n",
        "  print(\"es bisiesto\")\n",
        "else:\n",
        "  print(\"no es\")\n",
        ""
      ],
      "metadata": {
        "colab": {
          "base_uri": "https://localhost:8080/"
        },
        "id": "qJ3BLQso8_fC",
        "outputId": "96cea400-254a-4c66-94eb-33476af3e7c4"
      },
      "execution_count": 15,
      "outputs": [
        {
          "output_type": "stream",
          "name": "stdout",
          "text": [
            "calcula un año bisiesto\n",
            "digite un año al azar2024\n",
            "no es\n"
          ]
        }
      ]
    },
    {
      "cell_type": "code",
      "source": [
        "print(\"calcula un año bisiesto\")\n",
        "a = int(input(\"digite un año al azar: \"))\n",
        "if a % 400 == 0:\n",
        "    print(\"es bisiesto\")\n",
        "elif a % 4 == 0 and a % 100 != 0:\n",
        "    print(\"también es bisiesto\")\n",
        "else:\n",
        "    print(\"no es bisiesto, escriba otra cosa\")"
      ],
      "metadata": {
        "colab": {
          "base_uri": "https://localhost:8080/"
        },
        "id": "EMXMNSJN9EEe",
        "outputId": "358765b0-443f-481f-a423-5478d7f77169"
      },
      "execution_count": 17,
      "outputs": [
        {
          "output_type": "stream",
          "name": "stdout",
          "text": [
            "calcula un año bisiesto\n",
            "digite un año al azar: 2023\n",
            "no es bisiesto, escriba otra cosa\n"
          ]
        }
      ]
    },
    {
      "cell_type": "code",
      "source": [
        "a=int(input(\"Digite un año: \")); print(\"es bisiesto\" if a%400==0 else (\"es bisiesto\" if a%4==0 and a%100!=0 else \"no es\"))"
      ],
      "metadata": {
        "colab": {
          "base_uri": "https://localhost:8080/"
        },
        "id": "Lwuz8EC69JCt",
        "outputId": "7d1a685d-7808-4aac-90b0-a0e8e2470ffb"
      },
      "execution_count": 18,
      "outputs": [
        {
          "output_type": "stream",
          "name": "stdout",
          "text": [
            "Digite un año: 2022\n",
            "no es\n"
          ]
        }
      ]
    },
    {
      "cell_type": "markdown",
      "source": [
        "8. Escribe un programa que reciba una contraseña e indique si cumple con las siguientes reglas: más de 8 caracteres, contiene al menos un número y una letra mayúscula.\n"
      ],
      "metadata": {
        "id": "jKaCJ9w-9Pen"
      }
    },
    {
      "cell_type": "code",
      "source": [
        "contraseña= input(\"Digita la contraseña de al menos 8 caracteres: \")\n",
        "\n",
        "tiene_longitud = len(contraseña) >= 8\n",
        "tiene_numero = any(caracter.isdigit() for caracter in contraseña)\n",
        "tiene_mayuscula = any(caracter.isupper() for caracter in contraseña)\n",
        "\n",
        "if tiene_longitud and tiene_numero and tiene_mayuscula:\n",
        "    print(f\"{contraseña} es válida\")\n",
        "else:\n",
        "    print(f\"{contraseña} no es válida\")\n",
        ""
      ],
      "metadata": {
        "colab": {
          "base_uri": "https://localhost:8080/"
        },
        "id": "eQEnXDR79XNE",
        "outputId": "06f27f41-2b06-48e6-bd53-b4dab6e2c8d9"
      },
      "execution_count": 11,
      "outputs": [
        {
          "output_type": "stream",
          "name": "stdout",
          "text": [
            "Digita la contraseña de al menos 8 caracteres: salome5896585\n",
            "salome5896585 no es válida\n"
          ]
        }
      ]
    },
    {
      "cell_type": "code",
      "source": [
        "contraseña = input(\"Digita la contraseña de al menos 8 caracteres: \")\n",
        "\n",
        "tiene_longitud = len(contraseña) >= 8\n",
        "tiene_numero = any(caracter.isdigit() for caracter in contraseña)\n",
        "tiene_mayuscula = any(caracter.isupper() for caracter in contraseña)\n",
        "\n",
        "if tiene_longitud and tiene_numero and tiene_mayuscula:\n",
        "    print(f\"{contraseña} es válida\")\n",
        "elif tiene_longitud or tiene_numero or tiene_mayuscula:\n",
        "    print(f\"{contraseña} le falta un elemento\")\n",
        "else:\n",
        "    print(f\"{contraseña} no es válida\")\n",
        ""
      ],
      "metadata": {
        "colab": {
          "base_uri": "https://localhost:8080/"
        },
        "id": "k7erPlyY9aP1",
        "outputId": "9225ea2c-dd26-4095-f387-6881bbf590ff"
      },
      "execution_count": 12,
      "outputs": [
        {
          "output_type": "stream",
          "name": "stdout",
          "text": [
            "Digita la contraseña de al menos 8 caracteres: Salito67\n",
            "Salito67 es válida\n"
          ]
        }
      ]
    },
    {
      "cell_type": "code",
      "source": [
        "print((contraseña := input(\"Digita la contraseña de al menos 8 caracteres: \")) + (\" es válida\" if len(contraseña) >= 8 and any(c.isdigit() for c in contraseña) and any(c.isupper() for c in contraseña) else \" no es válida\"))\n"
      ],
      "metadata": {
        "colab": {
          "base_uri": "https://localhost:8080/"
        },
        "id": "LW9SEDGQ9nHb",
        "outputId": "44f3fcd7-566b-4b37-f900-dd613ab09a77"
      },
      "execution_count": 13,
      "outputs": [
        {
          "output_type": "stream",
          "name": "stdout",
          "text": [
            "Digita la contraseña de al menos 8 caracteres: Salito68\n",
            "Salito68 es válida\n"
          ]
        }
      ]
    },
    {
      "cell_type": "markdown",
      "source": [
        "9. Escribe un programa que lea un número e imprima “Fizz” si es divisible por 3, “Buzz” si es divisible por 5 y “FizzBuzz” si es divisible por ambos.\n"
      ],
      "metadata": {
        "id": "qA3DzBTb9pX-"
      }
    },
    {
      "cell_type": "code",
      "source": [
        "numero = int(input(\"digita un numero y te cuento un secreto :\"))\n",
        "\n",
        "if numero % 3 == 0 and numero % 5 == 0:\n",
        "  print(\"el numero es divisible en 5 y 3 :0\")\n",
        "else:\n",
        "  if numero  % 3 == 0:\n",
        "    print(\"es divisible solamente en 3\")\n",
        "  else:\n",
        "    if numero % 5 == 0:\n",
        "     print(\"es divisible en 5 solamente\")\n",
        "    else:\n",
        "      print(\"no es divisible en 5 o 3\")\n"
      ],
      "metadata": {
        "colab": {
          "base_uri": "https://localhost:8080/"
        },
        "id": "VpeDO-Ji9snj",
        "outputId": "ce922205-161a-4147-cd81-35e39e783e60"
      },
      "execution_count": 8,
      "outputs": [
        {
          "output_type": "stream",
          "name": "stdout",
          "text": [
            "digita un numero y te cuento un secreto :8\n",
            "no es divisible en 5 o 3\n"
          ]
        }
      ]
    },
    {
      "cell_type": "code",
      "source": [
        "numero = int(input(\"Digita un número y te cuento un secreto: \"))\n",
        "\n",
        "if numero % 3 == 0 and numero % 5 == 0:\n",
        "    print(\"El número es divisible entre 5 y 3 :0\")\n",
        "elif numero % 3 == 0:\n",
        "    print(\"Es divisible solamente entre 3\")\n",
        "elif numero % 5 == 0:\n",
        "    print(\"Es divisible solamente entre 5\")\n",
        "else:\n",
        "    print(\"No es divisible entre 5 o 3\")"
      ],
      "metadata": {
        "colab": {
          "base_uri": "https://localhost:8080/"
        },
        "id": "S7sYDVSV9s59",
        "outputId": "63efe568-1987-4d6c-8035-72d425ab7b0c"
      },
      "execution_count": 9,
      "outputs": [
        {
          "output_type": "stream",
          "name": "stdout",
          "text": [
            "Digita un número y te cuento un secreto: 25\n",
            "Es divisible solamente entre 5\n"
          ]
        }
      ]
    },
    {
      "cell_type": "code",
      "source": [
        "print((lambda n: \"el numero es divisible en 5 y 3 :0\" if n % 3 == 0 and n % 5 == 0 else \"es divisible solamente en 3\" if n % 3 == 0 else \"es divisible en 5 solamente\" if n % 5 == 0 else \"no es divisible en 5 o 3\")(int(input(\"digita un numero y te cuento un secreto :\"))))\n"
      ],
      "metadata": {
        "colab": {
          "base_uri": "https://localhost:8080/"
        },
        "id": "kASym7009tag",
        "outputId": "244c0c23-bdeb-403b-c928-2be3510844d4"
      },
      "execution_count": 10,
      "outputs": [
        {
          "output_type": "stream",
          "name": "stdout",
          "text": [
            "digita un numero y te cuento un secreto :5\n",
            "es divisible en 5 solamente\n"
          ]
        }
      ]
    },
    {
      "cell_type": "markdown",
      "source": [
        "10. Escribe un programa que simule un cajero automático: recibe el monto a retirar e imprime si la operación es posible en base al saldo disponible.\n"
      ],
      "metadata": {
        "id": "NlolJI5q9uCD"
      }
    },
    {
      "cell_type": "code",
      "source": [
        "saldo = 1000000\n",
        "retiro = float(input(\"Monto a retirar: \"))\n",
        "if retiro <= saldo:\n",
        "  print(\"Operación exitosa\")\n",
        "else:\n",
        "  print(\"No hay fondos disponibles para esta cantidad\")"
      ],
      "metadata": {
        "colab": {
          "base_uri": "https://localhost:8080/"
        },
        "id": "l0ENmYI39w2A",
        "outputId": "d06cb495-8264-4e0b-c557-bda81d519937"
      },
      "execution_count": 5,
      "outputs": [
        {
          "output_type": "stream",
          "name": "stdout",
          "text": [
            "Monto a retirar: 100000\n",
            "Operación exitosa\n"
          ]
        }
      ]
    },
    {
      "cell_type": "code",
      "source": [
        "saldo = 1000000\n",
        "retiro = float(input(\"Monto a retirar: \"))\n",
        "if retiro==0:\n",
        "  print(\"Ingrese un valor diferente a 0\")\n",
        "elif retiro <= saldo:\n",
        "  print(\"Operación exitosa\")\n",
        "else:\n",
        "  print(\"No hay fondos disponibles para esta cantidad\")\n",
        ""
      ],
      "metadata": {
        "colab": {
          "base_uri": "https://localhost:8080/"
        },
        "id": "jD9Rxwbo9xEm",
        "outputId": "c39e19cf-2a95-4236-9327-def1195f134e"
      },
      "execution_count": 6,
      "outputs": [
        {
          "output_type": "stream",
          "name": "stdout",
          "text": [
            "Monto a retirar: 10000\n",
            "Operación exitosa\n"
          ]
        }
      ]
    },
    {
      "cell_type": "code",
      "source": [
        "print(\"Operación exitosa\") if retiro <= saldo else print(\"No hay fondos disponibles para esta cantidad\")\n"
      ],
      "metadata": {
        "colab": {
          "base_uri": "https://localhost:8080/"
        },
        "id": "QK8vOvVX9xTL",
        "outputId": "6658a52d-e74c-4fe2-baca-90a4e31b9821"
      },
      "execution_count": 7,
      "outputs": [
        {
          "output_type": "stream",
          "name": "stdout",
          "text": [
            "Operación exitosa\n"
          ]
        }
      ]
    }
  ]
}