{
  "nbformat": 4,
  "nbformat_minor": 0,
  "metadata": {
    "colab": {
      "provenance": [],
      "authorship_tag": "ABX9TyOxL5fQbQaSD9A8Ym7OPrSW",
      "include_colab_link": true
    },
    "kernelspec": {
      "name": "python3",
      "display_name": "Python 3"
    },
    "language_info": {
      "name": "python"
    }
  },
  "cells": [
    {
      "cell_type": "markdown",
      "metadata": {
        "id": "view-in-github",
        "colab_type": "text"
      },
      "source": [
        "<a href=\"https://colab.research.google.com/github/Salome-06/PROGCOM-A/blob/main/Clase_8_POO_Programaci%C3%B3n_Orientada_a_Objetos.ipynb\" target=\"_parent\"><img src=\"https://colab.research.google.com/assets/colab-badge.svg\" alt=\"Open In Colab\"/></a>"
      ]
    },
    {
      "cell_type": "code",
      "execution_count": 2,
      "metadata": {
        "colab": {
          "base_uri": "https://localhost:8080/"
        },
        "id": "fb8ngMLqLwyC",
        "outputId": "417e2860-7495-4c86-98a5-b7ce43cc026a"
      },
      "outputs": [
        {
          "output_type": "execute_result",
          "data": {
            "text/plain": [
              "['dahlia', 'rosa', 'lirio']"
            ]
          },
          "metadata": {},
          "execution_count": 2
        }
      ],
      "source": [
        "#Floristería\n",
        "#1. Conjunto de flores, se elige aleatoriamente una cantidad\n",
        "import random\n",
        "\n",
        "flores=[\"tulipán\", \"lirio\", \"rosa\", \"dahlia\", \"margarita\", \"girasol\", \"clavel\", \"geranio\"]\n",
        "seleccion=random.sample(flores,3)\n",
        "seleccion"
      ]
    },
    {
      "cell_type": "code",
      "source": [
        "def inventario():\n",
        "  flores=[\"tulipán\", \"lirio\", \"rosa\", \"dahlia\", \"margarita\", \"girasol\", \"clavel\", \"geranio\"]\n",
        "  seleccion=random.sample(flores,3)\n",
        "\n",
        "  inventario={\n",
        "      flor:{\n",
        "          \"precio\":random.randint(2000,6000),\n",
        "          \"cantidad\":random.randint(10,50),\n",
        "          \"vendidas\":0\n",
        "      } for flor in seleccion\n",
        "      }\n",
        "  return inventario"
      ],
      "metadata": {
        "id": "1VfeXXL9OStN"
      },
      "execution_count": 6,
      "outputs": []
    },
    {
      "cell_type": "code",
      "source": [
        "inventario()"
      ],
      "metadata": {
        "colab": {
          "base_uri": "https://localhost:8080/"
        },
        "id": "ZL24_A-ZQEoT",
        "outputId": "07e62dc1-710a-4e4b-ca1e-d88577b9c3f5"
      },
      "execution_count": 7,
      "outputs": [
        {
          "output_type": "execute_result",
          "data": {
            "text/plain": [
              "{'lirio': {'precio': 2117, 'cantidad': 48, 'vendidas': 0},\n",
              " 'geranio': {'precio': 3788, 'cantidad': 36, 'vendidas': 0},\n",
              " 'dahlia': {'precio': 4026, 'cantidad': 50, 'vendidas': 0}}"
            ]
          },
          "metadata": {},
          "execution_count": 7
        }
      ]
    },
    {
      "cell_type": "code",
      "source": [
        "flor=inventario()\n",
        "flor.items()"
      ],
      "metadata": {
        "colab": {
          "base_uri": "https://localhost:8080/"
        },
        "id": "rDQOajZCRz6r",
        "outputId": "3c2e723e-35c0-4f5b-ca93-3798b641dde6"
      },
      "execution_count": 9,
      "outputs": [
        {
          "output_type": "execute_result",
          "data": {
            "text/plain": [
              "dict_items([('rosa', {'precio': 4965, 'cantidad': 30, 'vendidas': 0}), ('dahlia', {'precio': 4654, 'cantidad': 33, 'vendidas': 0}), ('geranio', {'precio': 2295, 'cantidad': 37, 'vendidas': 0})])"
            ]
          },
          "metadata": {},
          "execution_count": 9
        }
      ]
    },
    {
      "cell_type": "code",
      "source": [
        "def menu(inventario):\n",
        "  print(\"\\n---MENÚ DE FLORES DISPONIBLES FLORISTERÍA CARLITOS---\")\n",
        "  for flor,datos in inventario.items():\n",
        "    print(f\"{flor}: ${datos[\"precio\"]} cant: {datos[\"cantidad\"]} disponibles\")\n",
        "  print(\"--------------------------------------------------------\")"
      ],
      "metadata": {
        "id": "ZCaWE2ydQ2Fj"
      },
      "execution_count": 14,
      "outputs": []
    },
    {
      "cell_type": "code",
      "source": [
        "menu(inventario())"
      ],
      "metadata": {
        "colab": {
          "base_uri": "https://localhost:8080/"
        },
        "id": "0qMSL6esTC5A",
        "outputId": "f28e8e36-599d-4e04-cb9e-ee67e82aeec6"
      },
      "execution_count": 15,
      "outputs": [
        {
          "output_type": "stream",
          "name": "stdout",
          "text": [
            "\n",
            "---MENÚ DE FLORES DISPONIBLES FLORISTERÍA CARLITOS---\n",
            "geranio: $2157 cant: 23 disponibles\n",
            "girasol: $5734 cant: 14 disponibles\n",
            "clavel: $4961 cant: 45 disponibles\n",
            "--------------------------------------------------------\n"
          ]
        }
      ]
    },
    {
      "cell_type": "code",
      "source": [
        "def ventas(inventario,flor,cantidad,total_ganado):\n",
        "  if flor not in inventario:\n",
        "    print(f\"{flor} no se encuentra a la venta😶‍🌫️\")\n",
        "    return total_ganado\n",
        "  datos=inventario[flor]\n",
        "  if cantidad>datos[\"cantidad\"]:\n",
        "    print(f\"Lo siento. No tenemos la cantidad requerida\")\n",
        "    return total_ganado\n",
        "\n",
        "  #Realizando la venta\n",
        "  datos[\"cantidad\"]-=cantidad\n",
        "  datos[\"vendidas\"]+=cantidad\n",
        "  venta = datos[\"precio\"] * cantidad\n",
        "  total_ganado+=venta\n",
        "  print(f\"Vendidas: {cantidad} de {flor} por un total de ${venta}\")\n",
        "\n",
        "  #Si se acaba, eliminamos la flor\n",
        "  if datos[\"cantidad\"]==0:\n",
        "    print(f\"{flor} ha sido eliminada del inventario\")\n",
        "    del inventario[flor]\n",
        "  return total_ganado"
      ],
      "metadata": {
        "id": "uheM4jLbUeWm"
      },
      "execution_count": 17,
      "outputs": []
    },
    {
      "cell_type": "code",
      "source": [
        "def cerrar_tienda(inventario_inicial,inventario_final,total_ganado):\n",
        "  print(\"\\n---Tienda Cerrada---\")\n",
        "  #Combinar el inventario inicial con el final para saber cuántas se vendieron\n",
        "  flores_vendidas={}\n",
        "  for flor,datos in inventario_inicial.items():\n",
        "    cantidad_final=inventario_final.get(flor,{\"cantidad\":0})[\"cantidad\"]\n",
        "    vendidas=datos[\"cantidad\"]-cantidad_final\n",
        "    flores_vendidas[flor]=vendidas\n",
        "\n",
        "    #Determinar cuáles fueron las más vendidas\n",
        "    mas_vendidas=max(flores_vendidas,key=flores_vendidas.get)\n",
        "    menos_vendidas=min(flores_vendidas,key=flores_vendidas.get)\n",
        "\n",
        "    print(f\"La flor más vendida fue {mas_vendidas}:{flores_vendidas[mas_vendidas]}\")\n",
        "    print(f\"La flor menos vendida fue {menos_vendidas}:{flores_vendidas[menos_vendidas]}\")"
      ],
      "metadata": {
        "id": "GTTRbEVCZLra"
      },
      "execution_count": 21,
      "outputs": []
    },
    {
      "cell_type": "code",
      "source": [
        "flor"
      ],
      "metadata": {
        "colab": {
          "base_uri": "https://localhost:8080/"
        },
        "id": "HnNKIZnZdgkp",
        "outputId": "e354c0ca-18dc-4ed5-a778-65adf83f8e16"
      },
      "execution_count": 22,
      "outputs": [
        {
          "output_type": "execute_result",
          "data": {
            "text/plain": [
              "{'rosa': {'precio': 4965, 'cantidad': 30, 'vendidas': 0},\n",
              " 'dahlia': {'precio': 4654, 'cantidad': 33, 'vendidas': 0},\n",
              " 'geranio': {'precio': 2295, 'cantidad': 37, 'vendidas': 0}}"
            ]
          },
          "metadata": {},
          "execution_count": 22
        }
      ]
    },
    {
      "cell_type": "code",
      "source": [
        "total_ganado=0\n",
        "total_ganado=ventas(flor,\"rosa\",10,total_ganado)\n",
        "total_ganado=ventas(flor,\"clavel\",18,total_ganado)\n",
        "total_ganado=ventas(flor,\"margarita\",80,total_ganado)"
      ],
      "metadata": {
        "colab": {
          "base_uri": "https://localhost:8080/"
        },
        "id": "8b1NiKetcuyc",
        "outputId": "65e40c04-9daa-4702-9265-9ae93681ab1b"
      },
      "execution_count": 23,
      "outputs": [
        {
          "output_type": "stream",
          "name": "stdout",
          "text": [
            "Vendidas: 10 de rosa por un total de $49650\n",
            "clavel no se encuentra a la venta😶‍🌫️\n",
            "margarita no se encuentra a la venta😶‍🌫️\n"
          ]
        }
      ]
    },
    {
      "cell_type": "code",
      "source": [
        "menu(flor)"
      ],
      "metadata": {
        "colab": {
          "base_uri": "https://localhost:8080/"
        },
        "id": "UFduPuNKd9uA",
        "outputId": "d7f26f11-d684-46b4-923c-edee5be2d276"
      },
      "execution_count": 24,
      "outputs": [
        {
          "output_type": "stream",
          "name": "stdout",
          "text": [
            "\n",
            "---MENÚ DE FLORES DISPONIBLES FLORISTERÍA CARLITOS---\n",
            "rosa: $4965 cant: 20 disponibles\n",
            "dahlia: $4654 cant: 33 disponibles\n",
            "geranio: $2295 cant: 37 disponibles\n",
            "--------------------------------------------------------\n"
          ]
        }
      ]
    },
    {
      "cell_type": "code",
      "source": [
        "cerrar_tienda"
      ],
      "metadata": {
        "id": "4b75T8BNeE1e"
      },
      "execution_count": null,
      "outputs": []
    }
  ]
}