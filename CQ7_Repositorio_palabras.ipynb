{
  "nbformat": 4,
  "nbformat_minor": 0,
  "metadata": {
    "colab": {
      "provenance": []
    },
    "kernelspec": {
      "name": "python3",
      "display_name": "Python 3"
    },
    "language_info": {
      "name": "python"
    }
  },
  "cells": [
    {
      "cell_type": "markdown",
      "source": [
        "##REPOSITORIO DE PALABRAS CLAVE"
      ],
      "metadata": {
        "id": "8tncg5oX0ozl"
      }
    },
    {
      "cell_type": "markdown",
      "source": [
        "**Tipos de datos booleanos y nulos**\n",
        "\n",
        "False: Representa el valor booleano falso. Se usa en declaraciones condicionales y comparaciones.\n",
        "\n",
        "\n"
      ],
      "metadata": {
        "id": "hnOdtvwg0sFS"
      }
    },
    {
      "cell_type": "code",
      "execution_count": null,
      "metadata": {
        "colab": {
          "base_uri": "https://localhost:8080/"
        },
        "id": "08BU1nsf0ha1",
        "outputId": "2e905979-c50b-4c2d-d143-b95c8ddc81e8"
      },
      "outputs": [
        {
          "output_type": "stream",
          "name": "stdout",
          "text": [
            "False\n"
          ]
        }
      ],
      "source": [
        "#EJEMPLO\n",
        "es_mayor = 5 > 10\n",
        "print(es_mayor)\n",
        "\n"
      ]
    },
    {
      "cell_type": "markdown",
      "source": [
        "None: Un tipo de dato que indica la ausencia de un valor. Se usa para inicializar variables sin un valor o para indicar que una función no retorna nada explícitamente.\n",
        "\n"
      ],
      "metadata": {
        "id": "vH7Y47Am1fqe"
      }
    },
    {
      "cell_type": "code",
      "source": [
        "#EJEMPLO\n",
        "mi_variable = None\n",
        "print(mi_variable)"
      ],
      "metadata": {
        "colab": {
          "base_uri": "https://localhost:8080/"
        },
        "id": "x6RpXYoq1ho6",
        "outputId": "0380e68c-e3bc-4f31-ef2c-4b6292a9e776"
      },
      "execution_count": null,
      "outputs": [
        {
          "output_type": "stream",
          "name": "stdout",
          "text": [
            "None\n"
          ]
        }
      ]
    },
    {
      "cell_type": "markdown",
      "source": [
        "True: Representa el valor booleano verdadero. Se usa en declaraciones condicionales y comparaciones.\n",
        "\n"
      ],
      "metadata": {
        "id": "l1oZXI1F1lSo"
      }
    },
    {
      "cell_type": "code",
      "source": [
        "#EJEMPLO\n",
        "es_menor = 5 < 10\n",
        "print(es_menor)"
      ],
      "metadata": {
        "colab": {
          "base_uri": "https://localhost:8080/"
        },
        "id": "jLHt4oU31xGh",
        "outputId": "fbc8ef34-8d55-42f8-ff8a-3f9ee0e2888f"
      },
      "execution_count": null,
      "outputs": [
        {
          "output_type": "stream",
          "name": "stdout",
          "text": [
            "True\n"
          ]
        }
      ]
    },
    {
      "cell_type": "markdown",
      "source": [
        "**Operadores lógicos y de identidad**\n",
        "\n",
        "and: Es un operador lógico que retorna True si ambas condiciones son verdaderas.\n",
        "\n"
      ],
      "metadata": {
        "id": "ZBy77eVU1482"
      }
    },
    {
      "cell_type": "code",
      "source": [
        "#EJEMPLO\n",
        "edad = 25\n",
        "tiene_licencia = True\n",
        "if edad >= 18 and tiene_licencia:\n",
        "    print(\"Puede conducir.\")"
      ],
      "metadata": {
        "colab": {
          "base_uri": "https://localhost:8080/"
        },
        "id": "YO5z8f6W1-ym",
        "outputId": "507e83e8-542b-4ed9-87a1-a70143745627"
      },
      "execution_count": null,
      "outputs": [
        {
          "output_type": "stream",
          "name": "stdout",
          "text": [
            "Puede conducir.\n"
          ]
        }
      ]
    },
    {
      "cell_type": "markdown",
      "source": [
        "is: Es un operador de identidad que compara si dos variables apuntan al mismo objeto en memoria.\n",
        "\n"
      ],
      "metadata": {
        "id": "-3Q5b8lX2C7X"
      }
    },
    {
      "cell_type": "code",
      "source": [
        "#EJEMPLO\n",
        "a = [1, 2]\n",
        "b = a\n",
        "print(a is b)"
      ],
      "metadata": {
        "colab": {
          "base_uri": "https://localhost:8080/"
        },
        "id": "zvz0ZSNJ2Fb_",
        "outputId": "c9c411d2-c353-44db-ac7e-bb1b44459992"
      },
      "execution_count": null,
      "outputs": [
        {
          "output_type": "stream",
          "name": "stdout",
          "text": [
            "True\n"
          ]
        }
      ]
    },
    {
      "cell_type": "markdown",
      "source": [
        "not: Es un operador lógico que niega una condición. Retorna True si la condición es falsa.\n",
        "\n"
      ],
      "metadata": {
        "id": "76lQaz_f2Kxg"
      }
    },
    {
      "cell_type": "code",
      "source": [
        "#EJEMPLO\n",
        "tiene_permiso = False\n",
        "if not tiene_permiso:\n",
        "    print(\"Acceso denegado.\")"
      ],
      "metadata": {
        "colab": {
          "base_uri": "https://localhost:8080/"
        },
        "id": "4tr_YrW22L8k",
        "outputId": "f924a23c-f7db-45fb-e1d7-41160d6c6dd1"
      },
      "execution_count": null,
      "outputs": [
        {
          "output_type": "stream",
          "name": "stdout",
          "text": [
            "Acceso denegado.\n"
          ]
        }
      ]
    },
    {
      "cell_type": "markdown",
      "source": [
        "or: Es un operador lógico que retorna True si al menos una de las condiciones es verdadera.\n",
        "\n"
      ],
      "metadata": {
        "id": "iNpU1ANW2PAS"
      }
    },
    {
      "cell_type": "code",
      "source": [
        "#EJEMPLO\n",
        "dia = \"sábado\"\n",
        "if dia == \"sábado\" or dia == \"domingo\":\n",
        "    print(\"Es fin de semana.\")"
      ],
      "metadata": {
        "colab": {
          "base_uri": "https://localhost:8080/"
        },
        "id": "8ok1jMLG2RqK",
        "outputId": "c33aa0dc-cfa8-400f-da5b-3fcd2bc38340"
      },
      "execution_count": null,
      "outputs": [
        {
          "output_type": "stream",
          "name": "stdout",
          "text": [
            "Es fin de semana.\n"
          ]
        }
      ]
    },
    {
      "cell_type": "markdown",
      "source": [
        "as: Se usa para crear un alias o un nombre temporal para un módulo, una clase o un recurso que se usa en una declaración, como con import o with.\n",
        "\n"
      ],
      "metadata": {
        "id": "vX6HvMMN9oUB"
      }
    },
    {
      "cell_type": "code",
      "source": [
        "#EJEMPLO\n",
        "import math as m\n",
        "print(m.sqrt(25))"
      ],
      "metadata": {
        "colab": {
          "base_uri": "https://localhost:8080/"
        },
        "id": "skNMVH9j9rYJ",
        "outputId": "40ad7170-a3af-4e1a-da98-51531ca4b2e0"
      },
      "execution_count": null,
      "outputs": [
        {
          "output_type": "stream",
          "name": "stdout",
          "text": [
            "5.0\n"
          ]
        }
      ]
    },
    {
      "cell_type": "markdown",
      "source": [
        "in: Se usa para verificar si un valor se encuentra dentro de una secuencia (como una lista, una cadena de texto, una tupla o un diccionario). También se usa en bucles for para iterar.\n",
        "\n"
      ],
      "metadata": {
        "id": "bu_Dy0Gl9wiv"
      }
    },
    {
      "cell_type": "code",
      "source": [
        "#EJEMPLO\n",
        "frutas = [\"manzana\", \"banana\", \"uva\"]\n",
        "if \"banana\" in frutas:\n",
        "    print(\"Sí, la banana está en la lista.\")"
      ],
      "metadata": {
        "colab": {
          "base_uri": "https://localhost:8080/"
        },
        "id": "lbn41Cm-93eW",
        "outputId": "4eea0ae8-bdaa-4a2a-aa33-2592475130dc"
      },
      "execution_count": null,
      "outputs": [
        {
          "output_type": "stream",
          "name": "stdout",
          "text": [
            "Sí, la banana está en la lista.\n"
          ]
        }
      ]
    },
    {
      "cell_type": "markdown",
      "source": [
        "**Estructuras de control de flujo**\n",
        "\n",
        "break: Se usa para salir de un bucle de manera abrupta (como for o while).\n",
        "\n"
      ],
      "metadata": {
        "id": "QU90_Spd2XiQ"
      }
    },
    {
      "cell_type": "code",
      "source": [
        "#EJEMPLO\n",
        "for i in range(5):\n",
        "    if i == 3:\n",
        "        break\n",
        "    print(i)"
      ],
      "metadata": {
        "colab": {
          "base_uri": "https://localhost:8080/"
        },
        "id": "lGxG15Uz2gfE",
        "outputId": "a634a690-317c-4a3b-d5c3-624fd09e6dac"
      },
      "execution_count": null,
      "outputs": [
        {
          "output_type": "stream",
          "name": "stdout",
          "text": [
            "0\n",
            "1\n",
            "2\n"
          ]
        }
      ]
    },
    {
      "cell_type": "markdown",
      "source": [
        "continue: Se usa para saltar el resto del código en la iteración actual de un bucle y pasar a la siguiente iteración.\n",
        "\n"
      ],
      "metadata": {
        "id": "lYLiKp--2k1V"
      }
    },
    {
      "cell_type": "code",
      "source": [
        "#EJEMPLO\n",
        "for i in range(5):\n",
        "    if i == 2:\n",
        "        continue\n",
        "    print(i)"
      ],
      "metadata": {
        "colab": {
          "base_uri": "https://localhost:8080/"
        },
        "id": "7UbERADV2oMn",
        "outputId": "6dbbcead-01bf-4fda-974c-76ce793805fe"
      },
      "execution_count": null,
      "outputs": [
        {
          "output_type": "stream",
          "name": "stdout",
          "text": [
            "0\n",
            "1\n",
            "3\n",
            "4\n"
          ]
        }
      ]
    },
    {
      "cell_type": "markdown",
      "source": [
        "for: Se usa para iterar sobre una secuencia (como listas, tuplas o cadenas de texto).\n",
        "\n"
      ],
      "metadata": {
        "id": "5xgbD_0R2sWw"
      }
    },
    {
      "cell_type": "code",
      "source": [
        "#EJEMPLO\n",
        "frutas = [\"manzana\", \"banana\"]\n",
        "for fruta in frutas:\n",
        "    print(fruta)"
      ],
      "metadata": {
        "colab": {
          "base_uri": "https://localhost:8080/"
        },
        "id": "HlgaZIiX2u0H",
        "outputId": "ce78f075-8050-4597-b6b6-8fd9eed35dd4"
      },
      "execution_count": null,
      "outputs": [
        {
          "output_type": "stream",
          "name": "stdout",
          "text": [
            "manzana\n",
            "banana\n"
          ]
        }
      ]
    },
    {
      "cell_type": "markdown",
      "source": [
        "if: Se usa para ejecutar un bloque de código solo si una condición es verdadera.\n",
        "\n"
      ],
      "metadata": {
        "id": "KODFBWKU2zIW"
      }
    },
    {
      "cell_type": "code",
      "source": [
        "#EJEMPLO\n",
        "x = 10\n",
        "if x > 5:\n",
        "    print(\"x es mayor que 5.\")"
      ],
      "metadata": {
        "colab": {
          "base_uri": "https://localhost:8080/"
        },
        "id": "zXfwRZoR228Q",
        "outputId": "9934d0c3-7746-4e2a-868e-4b49c1ac36d0"
      },
      "execution_count": null,
      "outputs": [
        {
          "output_type": "stream",
          "name": "stdout",
          "text": [
            "x es mayor que 5.\n"
          ]
        }
      ]
    },
    {
      "cell_type": "markdown",
      "source": [
        "else: Se usa junto con if para ejecutar un bloque de código cuando la condición del if es falsa.\n",
        "\n"
      ],
      "metadata": {
        "id": "6P7TCNPU28Xv"
      }
    },
    {
      "cell_type": "code",
      "source": [
        "#EJEMPLO\n",
        "y = 3\n",
        "if y > 5:\n",
        "    print(\"y es mayor.\")\n",
        "else:\n",
        "    print(\"y es menor o igual.\")"
      ],
      "metadata": {
        "colab": {
          "base_uri": "https://localhost:8080/"
        },
        "id": "lMeSAPMz2-wN",
        "outputId": "968372a7-4cb4-423c-c682-aa75fcb50585"
      },
      "execution_count": null,
      "outputs": [
        {
          "output_type": "stream",
          "name": "stdout",
          "text": [
            "y es menor o igual.\n"
          ]
        }
      ]
    },
    {
      "cell_type": "markdown",
      "source": [
        "elif: Abreviatura de \"else if\", se usa para evaluar múltiples condiciones en secuencia después de un if.\n",
        "\n"
      ],
      "metadata": {
        "id": "4HoVnhWY3C5n"
      }
    },
    {
      "cell_type": "code",
      "source": [
        "#EJEMPLO\n",
        "nota = 80\n",
        "if nota >= 90:\n",
        "    print(\"A\")\n",
        "elif nota >= 80:\n",
        "    print(\"B\")"
      ],
      "metadata": {
        "colab": {
          "base_uri": "https://localhost:8080/"
        },
        "id": "05jxvib53GLp",
        "outputId": "bd3796d9-f7d4-4b0f-e022-2e4869678628"
      },
      "execution_count": null,
      "outputs": [
        {
          "output_type": "stream",
          "name": "stdout",
          "text": [
            "B\n"
          ]
        }
      ]
    },
    {
      "cell_type": "markdown",
      "source": [
        "pass: Una sentencia nula que no hace nada. Se usa como marcador de posición para un bloque de código que se implementará más tarde.\n",
        "\n"
      ],
      "metadata": {
        "id": "vCR0ej7r3J4Q"
      }
    },
    {
      "cell_type": "code",
      "source": [
        "#EJEMPLO\n",
        "def funcion_vacia():\n",
        "    pass"
      ],
      "metadata": {
        "id": "eoYzv39d3MQS"
      },
      "execution_count": null,
      "outputs": []
    },
    {
      "cell_type": "markdown",
      "source": [
        "while: Se usa para ejecutar un bloque de código repetidamente mientras una condición sea verdadera.\n",
        "\n"
      ],
      "metadata": {
        "id": "6fCkAxMb3Q_Y"
      }
    },
    {
      "cell_type": "code",
      "source": [
        "#EJEMPLO\n",
        "contador = 0\n",
        "while contador < 3:\n",
        "    print(contador)\n",
        "    contador += 1"
      ],
      "metadata": {
        "colab": {
          "base_uri": "https://localhost:8080/"
        },
        "id": "jF8bBu453UCg",
        "outputId": "931ca43e-14ad-49e5-d563-e6568e7fdfd3"
      },
      "execution_count": null,
      "outputs": [
        {
          "output_type": "stream",
          "name": "stdout",
          "text": [
            "0\n",
            "1\n",
            "2\n"
          ]
        }
      ]
    },
    {
      "cell_type": "markdown",
      "source": [
        "yield: Se usa en funciones generadoras para retornar un valor y pausar la ejecución, permitiendo que la función reanude su estado desde donde se quedó.\n",
        "\n"
      ],
      "metadata": {
        "id": "9CZNQFZl3Xq3"
      }
    },
    {
      "cell_type": "code",
      "source": [
        "#EJEMPLO\n",
        "def generador():\n",
        "    yield 1\n",
        "    yield 2\n",
        "\n",
        "gen = generador()\n",
        "print(next(gen))"
      ],
      "metadata": {
        "colab": {
          "base_uri": "https://localhost:8080/"
        },
        "id": "-Y5rVsyH3aM0",
        "outputId": "3fb169b8-71c1-414c-a8f9-0946a62a3bff"
      },
      "execution_count": null,
      "outputs": [
        {
          "output_type": "stream",
          "name": "stdout",
          "text": [
            "1\n"
          ]
        }
      ]
    },
    {
      "cell_type": "markdown",
      "source": [
        "**Funciones, clases y módulos**\n",
        "\n",
        "class: Se usa para definir una clase, que es un modelo para crear objetos (instancias).\n",
        "\n"
      ],
      "metadata": {
        "id": "vYPjuRkd3e_s"
      }
    },
    {
      "cell_type": "code",
      "source": [
        "#EJEMPLO\n",
        "class Gato:\n",
        "    def __init__(self, nombre):\n",
        "        self.nombre = nombre\n",
        "\n",
        "mi_gato = Gato(\"Mishi\")\n",
        "print(mi_gato.nombre)"
      ],
      "metadata": {
        "colab": {
          "base_uri": "https://localhost:8080/"
        },
        "id": "_trvnQ5K3maW",
        "outputId": "672687f0-4b46-4a4a-cb0d-e11ddb2b7a10"
      },
      "execution_count": null,
      "outputs": [
        {
          "output_type": "stream",
          "name": "stdout",
          "text": [
            "Mishi\n"
          ]
        }
      ]
    },
    {
      "cell_type": "markdown",
      "source": [
        "def: Se usa para definir una función o un método de una clase.\n",
        "\n"
      ],
      "metadata": {
        "id": "4aqr0K5-3qOK"
      }
    },
    {
      "cell_type": "code",
      "source": [
        "#EJEMPLO\n",
        "def saludar(nombre):\n",
        "    print(f\"Hola, {nombre}!\")\n",
        "\n",
        "saludar(\"Ana\")"
      ],
      "metadata": {
        "colab": {
          "base_uri": "https://localhost:8080/"
        },
        "id": "ZKD1NQHH3svx",
        "outputId": "7e4589f2-7eb5-495c-f6dd-c43448b5f531"
      },
      "execution_count": null,
      "outputs": [
        {
          "output_type": "stream",
          "name": "stdout",
          "text": [
            "Hola, Ana!\n"
          ]
        }
      ]
    },
    {
      "cell_type": "markdown",
      "source": [
        "from: Se usa junto con import para importar elementos específicos de un módulo.\n",
        "\n"
      ],
      "metadata": {
        "id": "A9lRI-px3w7K"
      }
    },
    {
      "cell_type": "code",
      "source": [
        "#EJEMPLO\n",
        "from math import pi\n",
        "print(pi)"
      ],
      "metadata": {
        "colab": {
          "base_uri": "https://localhost:8080/"
        },
        "id": "-g1uga1p31p8",
        "outputId": "bbe32c95-947d-415b-95d1-38cdd925440b"
      },
      "execution_count": null,
      "outputs": [
        {
          "output_type": "stream",
          "name": "stdout",
          "text": [
            "3.141592653589793\n"
          ]
        }
      ]
    },
    {
      "cell_type": "markdown",
      "source": [
        "global: Se usa para declarar que una variable dentro de una función es una variable global, no local.\n"
      ],
      "metadata": {
        "id": "CGv9nbtF36PU"
      }
    },
    {
      "cell_type": "code",
      "source": [
        "#EJEMPLO\n",
        "x = 5\n",
        "def cambiar_x():\n",
        "    global x\n",
        "    x = 10\n",
        "\n",
        "cambiar_x()\n",
        "print(x)"
      ],
      "metadata": {
        "colab": {
          "base_uri": "https://localhost:8080/"
        },
        "id": "SfuRSczH4_l1",
        "outputId": "ea291fe7-e529-4156-94d7-d72e0c748018"
      },
      "execution_count": null,
      "outputs": [
        {
          "output_type": "stream",
          "name": "stdout",
          "text": [
            "10\n"
          ]
        }
      ]
    },
    {
      "cell_type": "markdown",
      "source": [
        "import: Se usa para importar módulos o bibliotecas externas.\n",
        "\n"
      ],
      "metadata": {
        "id": "hJfGokHg5C_0"
      }
    },
    {
      "cell_type": "code",
      "source": [
        "#EJEMPLO\n",
        "import math\n",
        "print(math.sqrt(16))"
      ],
      "metadata": {
        "colab": {
          "base_uri": "https://localhost:8080/"
        },
        "id": "GAhuwZAn5KGy",
        "outputId": "bd6eeb93-41eb-4289-e2bf-d0ac4b916b9b"
      },
      "execution_count": null,
      "outputs": [
        {
          "output_type": "stream",
          "name": "stdout",
          "text": [
            "4.0\n"
          ]
        }
      ]
    },
    {
      "cell_type": "markdown",
      "source": [
        "lambda: Se usa para crear funciones anónimas de una sola línea.\n",
        "\n"
      ],
      "metadata": {
        "id": "pkJlABAQ5OXm"
      }
    },
    {
      "cell_type": "code",
      "source": [
        "#EJEMPLO\n",
        "sumar = lambda a, b: a + b\n",
        "print(sumar(2, 3))"
      ],
      "metadata": {
        "colab": {
          "base_uri": "https://localhost:8080/"
        },
        "id": "pO6RuLJQ5Q46",
        "outputId": "c152b3df-2f0d-4be3-b780-79c573460340"
      },
      "execution_count": null,
      "outputs": [
        {
          "output_type": "stream",
          "name": "stdout",
          "text": [
            "5\n"
          ]
        }
      ]
    },
    {
      "cell_type": "markdown",
      "source": [
        "nonlocal: Se usa para declarar que una variable no es local a la función actual, sino a una función contenedora.\n",
        "\n"
      ],
      "metadata": {
        "id": "B0x5D3as5r6A"
      }
    },
    {
      "cell_type": "code",
      "source": [
        "#EJEMPLO\n",
        "def exterior():\n",
        "    x = 10\n",
        "    def interior():\n",
        "        nonlocal x\n",
        "        x = 20\n",
        "    interior()\n",
        "    print(x)\n",
        "\n",
        "exterior()"
      ],
      "metadata": {
        "colab": {
          "base_uri": "https://localhost:8080/"
        },
        "id": "GXNqMsbz5v_z",
        "outputId": "6257fe6e-6321-4ac8-b291-c93eb02e3f9a"
      },
      "execution_count": null,
      "outputs": [
        {
          "output_type": "stream",
          "name": "stdout",
          "text": [
            "20\n"
          ]
        }
      ]
    },
    {
      "cell_type": "markdown",
      "source": [
        "return: Se usa en funciones para retornar un valor y salir de la función.\n",
        "\n"
      ],
      "metadata": {
        "id": "mkpWFOz25zMN"
      }
    },
    {
      "cell_type": "code",
      "source": [
        "#EJEMPLO\n",
        "def sumar(a, b):\n",
        "    return a + b\n",
        "\n",
        "resultado = sumar(5, 3)\n",
        "print(resultado)"
      ],
      "metadata": {
        "colab": {
          "base_uri": "https://localhost:8080/"
        },
        "id": "dWxZ0ygn52W7",
        "outputId": "4a70f0a6-f2e8-4c2b-8a54-b7a6def07387"
      },
      "execution_count": null,
      "outputs": [
        {
          "output_type": "stream",
          "name": "stdout",
          "text": [
            "8\n"
          ]
        }
      ]
    },
    {
      "cell_type": "markdown",
      "source": [
        "with: Se usa junto a una declaración de contexto (as) para simplificar el manejo de recursos, como archivos, garantizando que se cierren correctamente.\n",
        "\n"
      ],
      "metadata": {
        "id": "K3b1666Q58E7"
      }
    },
    {
      "cell_type": "code",
      "source": [
        "#EJEMPLO\n",
        "with open(\"archivo.txt\", \"w\") as f:\n",
        "    f.write(\"Hola, esto es un ejemplo.\")\n",
        "\n",
        "with open(\"archivo.txt\", \"r\") as f:\n",
        "    contenido = f.read()\n",
        "    print(contenido)"
      ],
      "metadata": {
        "colab": {
          "base_uri": "https://localhost:8080/"
        },
        "id": "Rz9ZHtrR5-Uv",
        "outputId": "f76006c8-547d-48f0-ccfd-6afb976c398e"
      },
      "execution_count": null,
      "outputs": [
        {
          "output_type": "stream",
          "name": "stdout",
          "text": [
            "Hola, esto es un ejemplo.\n"
          ]
        }
      ]
    },
    {
      "cell_type": "markdown",
      "source": [
        "**Manejo de excepciones y otros**\n",
        "\n",
        "assert: Se usa para validar si una condición es verdadera. Si no lo es, detiene la ejecución del programa y genera un error.\n",
        "\n"
      ],
      "metadata": {
        "id": "zBfGsXtC6Bzl"
      }
    },
    {
      "cell_type": "code",
      "source": [
        "#EJEMPLO\n",
        "edad = 15\n",
        "try:\n",
        "    assert edad >= 18, \"Error: la edad es menor de 18.\"\n",
        "except AssertionError as e:\n",
        "    print(e)"
      ],
      "metadata": {
        "colab": {
          "base_uri": "https://localhost:8080/"
        },
        "id": "x4p6QQcs6Jul",
        "outputId": "7bd3d491-c0e1-4ed0-889c-6eb4c6c98809"
      },
      "execution_count": null,
      "outputs": [
        {
          "output_type": "stream",
          "name": "stdout",
          "text": [
            "Error: la edad es menor de 18.\n"
          ]
        }
      ]
    },
    {
      "cell_type": "markdown",
      "source": [
        "del: Se usa para eliminar objetos o elementos de una estructura de datos.\n",
        "\n"
      ],
      "metadata": {
        "id": "YwWbFXao6NAI"
      }
    },
    {
      "cell_type": "code",
      "source": [
        "#EJEMPLO\n",
        "lista = [1, 2, 3]\n",
        "del lista[1]\n",
        "print(lista)"
      ],
      "metadata": {
        "colab": {
          "base_uri": "https://localhost:8080/"
        },
        "id": "UqnXrDd26Plh",
        "outputId": "ebe66f0e-74e4-41e0-e0d7-6c6836ec9377"
      },
      "execution_count": null,
      "outputs": [
        {
          "output_type": "stream",
          "name": "stdout",
          "text": [
            "[1, 3]\n"
          ]
        }
      ]
    },
    {
      "cell_type": "markdown",
      "source": [
        "except: Se usa en un bloque try...except para capturar y manejar errores (excepciones) que puedan ocurrir.\n",
        "\n"
      ],
      "metadata": {
        "id": "4CQn1yEV6SrA"
      }
    },
    {
      "cell_type": "code",
      "source": [
        "#EJEMPLO\n",
        "try:\n",
        "    1 / 0\n",
        "except ZeroDivisionError:\n",
        "    print(\"Error: división por cero.\")"
      ],
      "metadata": {
        "colab": {
          "base_uri": "https://localhost:8080/"
        },
        "id": "lQIwAmZi6WYx",
        "outputId": "9b62a108-2029-42c0-b096-d24c6df60581"
      },
      "execution_count": null,
      "outputs": [
        {
          "output_type": "stream",
          "name": "stdout",
          "text": [
            "Error: división por cero.\n"
          ]
        }
      ]
    },
    {
      "cell_type": "markdown",
      "source": [
        "finally: Se usa en un bloque try...except para ejecutar un bloque de código sin importar si ocurrió una excepción o no.\n",
        "\n"
      ],
      "metadata": {
        "id": "_DNTFGxR6ajI"
      }
    },
    {
      "cell_type": "code",
      "source": [
        "#EJEMPLO\n",
        "try:\n",
        "    1 / 0\n",
        "except:\n",
        "    print(\"Ocurrió un error.\")\n",
        "finally:\n",
        "    print(\"Este bloque de código siempre se ejecuta.\")"
      ],
      "metadata": {
        "colab": {
          "base_uri": "https://localhost:8080/"
        },
        "id": "2P1HxtVb6dgy",
        "outputId": "aaf0935c-3c85-46c0-ecc4-f40c32d10fd5"
      },
      "execution_count": null,
      "outputs": [
        {
          "output_type": "stream",
          "name": "stdout",
          "text": [
            "Ocurrió un error.\n",
            "Este bloque de código siempre se ejecuta.\n"
          ]
        }
      ]
    },
    {
      "cell_type": "markdown",
      "source": [
        "raise: Se usa para generar una excepción manualmente.\n",
        "\n"
      ],
      "metadata": {
        "id": "e11AEUk16h83"
      }
    },
    {
      "cell_type": "code",
      "source": [
        "#EJEMPLO\n",
        "edad = -5\n",
        "if edad < 0:\n",
        "    raise ValueError(\"La edad no puede ser negativa.\") #raise se usa para generar una excepción (un error) de forma manual"
      ],
      "metadata": {
        "colab": {
          "base_uri": "https://localhost:8080/",
          "height": 176
        },
        "id": "QLhz6uB46lDt",
        "outputId": "164b0c25-150e-4651-9793-63901ab9f559"
      },
      "execution_count": null,
      "outputs": [
        {
          "output_type": "error",
          "ename": "ValueError",
          "evalue": "La edad no puede ser negativa.",
          "traceback": [
            "\u001b[0;31m---------------------------------------------------------------------------\u001b[0m",
            "\u001b[0;31mValueError\u001b[0m                                Traceback (most recent call last)",
            "\u001b[0;32m/tmp/ipython-input-1769513019.py\u001b[0m in \u001b[0;36m<cell line: 0>\u001b[0;34m()\u001b[0m\n\u001b[1;32m      2\u001b[0m \u001b[0medad\u001b[0m \u001b[0;34m=\u001b[0m \u001b[0;34m-\u001b[0m\u001b[0;36m5\u001b[0m\u001b[0;34m\u001b[0m\u001b[0;34m\u001b[0m\u001b[0m\n\u001b[1;32m      3\u001b[0m \u001b[0;32mif\u001b[0m \u001b[0medad\u001b[0m \u001b[0;34m<\u001b[0m \u001b[0;36m0\u001b[0m\u001b[0;34m:\u001b[0m\u001b[0;34m\u001b[0m\u001b[0;34m\u001b[0m\u001b[0m\n\u001b[0;32m----> 4\u001b[0;31m     \u001b[0;32mraise\u001b[0m \u001b[0mValueError\u001b[0m\u001b[0;34m(\u001b[0m\u001b[0;34m\"La edad no puede ser negativa.\"\u001b[0m\u001b[0;34m)\u001b[0m\u001b[0;34m\u001b[0m\u001b[0;34m\u001b[0m\u001b[0m\n\u001b[0m",
            "\u001b[0;31mValueError\u001b[0m: La edad no puede ser negativa."
          ]
        }
      ]
    },
    {
      "cell_type": "code",
      "source": [
        "#EJEMPLO SIN EJECUTAR RAISE\n",
        "edad = 25\n",
        "if edad < 0:\n",
        "    raise ValueError(\"La edad no puede ser negativa.\")\n",
        "\n",
        "print(\"La edad es válida.\")"
      ],
      "metadata": {
        "colab": {
          "base_uri": "https://localhost:8080/"
        },
        "id": "iRw3Xs4v7eFE",
        "outputId": "937d92a6-4125-4682-81a4-24e7f32f08e1"
      },
      "execution_count": null,
      "outputs": [
        {
          "output_type": "stream",
          "name": "stdout",
          "text": [
            "La edad es válida.\n"
          ]
        }
      ]
    },
    {
      "cell_type": "markdown",
      "source": [
        "try: Se usa para probar un bloque de código que podría generar un error.\n",
        "\n"
      ],
      "metadata": {
        "id": "sM8F8VC37QWY"
      }
    },
    {
      "cell_type": "code",
      "source": [
        "#EJEMPLO\n",
        "try:\n",
        "    print(\"Intento de operación...\")\n",
        "    resultado = 10 / 2\n",
        "    print(f\"El resultado es: {resultado}\")\n",
        "except:\n",
        "    print(\"Ocurrió un error.\")"
      ],
      "metadata": {
        "id": "afsj_KQ27aNy"
      },
      "execution_count": null,
      "outputs": []
    },
    {
      "cell_type": "markdown",
      "source": [
        "**Programación Asíncrona (a partir de Python 3.5)**\n",
        "\n",
        "async: Se utiliza para definir una función como una \"coroutine\" (una rutina asíncrona), lo que permite que su ejecución se pause y se reanude.\n",
        "\n",
        "\n"
      ],
      "metadata": {
        "id": "Uye_kx-wKKoU"
      }
    },
    {
      "cell_type": "code",
      "source": [
        "#EJEMPLO\n",
        "import asyncio\n",
        "\n",
        "async def saludar():\n",
        "    await asyncio.sleep(1)\n",
        "    print(\"¡Hola mundo!\")\n",
        "\n",
        "await saludar()"
      ],
      "metadata": {
        "colab": {
          "base_uri": "https://localhost:8080/"
        },
        "id": "UWWcGJzhKO3D",
        "outputId": "4abc9891-a8d7-46ed-da50-b1b99c5f4f5b"
      },
      "execution_count": 5,
      "outputs": [
        {
          "output_type": "stream",
          "name": "stdout",
          "text": [
            "¡Hola mundo!\n"
          ]
        }
      ]
    },
    {
      "cell_type": "markdown",
      "source": [
        "await: Se usa dentro de una función async para pausar su ejecución hasta que otra operación asíncrona termine.\n",
        "\n"
      ],
      "metadata": {
        "id": "_MhepOtXLu16"
      }
    },
    {
      "cell_type": "code",
      "source": [
        "# EJEMPLO 2\n",
        "import asyncio\n",
        "\n",
        "async def tarea_lenta():\n",
        "    print(\"Iniciando tarea lenta...\")\n",
        "    await asyncio.sleep(2)\n",
        "    print(\"Tarea lenta completada.\")\n",
        "\n",
        "async def principal():\n",
        "    await tarea_lenta()\n",
        "    print(\"La tarea principal ha terminado.\")\n",
        "\n",
        "await principal()"
      ],
      "metadata": {
        "colab": {
          "base_uri": "https://localhost:8080/"
        },
        "id": "Ie23-nEKL0JB",
        "outputId": "db9cf02d-1b5f-4b74-e0cb-d667b74f11d9"
      },
      "execution_count": 7,
      "outputs": [
        {
          "output_type": "stream",
          "name": "stderr",
          "text": [
            "/usr/local/lib/python3.12/dist-packages/IPython/lib/py311_tokenize.py:532: RuntimeWarning: coroutine 'saludar' was never awaited\n",
            "  pseudomatch = _compile(PseudoToken).match(line, pos)\n",
            "RuntimeWarning: Enable tracemalloc to get the object allocation traceback\n"
          ]
        },
        {
          "output_type": "stream",
          "name": "stdout",
          "text": [
            "Iniciando tarea lenta...\n",
            "Tarea lenta completada.\n",
            "La tarea principal ha terminado.\n"
          ]
        }
      ]
    },
    {
      "cell_type": "markdown",
      "source": [
        "**Estructuras de Control Avanzadas (a partir de Python 3.10)**\n",
        "\n",
        "match: Implementa el \"structural pattern matching\", similar a una sentencia switch de otros lenguajes, para comparar un valor con varios patrones.\n",
        "\n"
      ],
      "metadata": {
        "id": "UlN5vMweKoG5"
      }
    },
    {
      "cell_type": "code",
      "source": [
        "#EJEMPLO\n",
        "def obtener_estado(codigo):\n",
        "    match codigo:\n",
        "        case 200:\n",
        "            print(\"OK\")\n",
        "        case 404:\n",
        "            print(\"No encontrado\")\n",
        "        case _:\n",
        "            print(\"Estado desconocido\")\n",
        "\n",
        "obtener_estado(200)"
      ],
      "metadata": {
        "colab": {
          "base_uri": "https://localhost:8080/"
        },
        "id": "nGR3ahCzMbY3",
        "outputId": "6f01a422-ef86-48b7-8fa4-9d7fe0acc900"
      },
      "execution_count": 8,
      "outputs": [
        {
          "output_type": "stream",
          "name": "stdout",
          "text": [
            "OK\n"
          ]
        }
      ]
    },
    {
      "cell_type": "markdown",
      "source": [
        "case: Se usa dentro de un bloque match para definir los diferentes patrones a comparar.\n",
        "\n"
      ],
      "metadata": {
        "id": "XNYJYIGXMexM"
      }
    },
    {
      "cell_type": "code",
      "source": [
        "#EJEMPLO\n",
        "def procesar_punto(punto):\n",
        "    match punto:\n",
        "        case (0, 0):\n",
        "            print(\"Origen\")\n",
        "        case (x, y) if x == y:\n",
        "            print(f\"Punto en la diagonal: ({x}, {y})\")\n",
        "        case _:\n",
        "            print(\"Otro punto\")\n",
        "\n",
        "procesar_punto((3, 3))"
      ],
      "metadata": {
        "colab": {
          "base_uri": "https://localhost:8080/"
        },
        "id": "YTqSzECFMkJb",
        "outputId": "5a2c39dc-3c8e-4fd3-ee02-364c88f3175e"
      },
      "execution_count": 9,
      "outputs": [
        {
          "output_type": "stream",
          "name": "stdout",
          "text": [
            "Punto en la diagonal: (3, 3)\n"
          ]
        }
      ]
    },
    {
      "cell_type": "markdown",
      "source": [
        "**Operadores y Conceptos Fundamentales**\n",
        "\n",
        "is not: Es un operador de comparación que evalúa como True si dos variables no se refieren al mismo objeto en memoria.\n",
        "\n"
      ],
      "metadata": {
        "id": "JXQ9Uw6IMymi"
      }
    },
    {
      "cell_type": "code",
      "source": [
        "#EJEMPLO\n",
        "lista_a = [1, 2, 3]\n",
        "lista_b = [1, 2, 3]\n",
        "print(lista_a is not lista_b)"
      ],
      "metadata": {
        "colab": {
          "base_uri": "https://localhost:8080/"
        },
        "id": "q3Ik2Yz1M5fQ",
        "outputId": "92d54ad2-893b-42b9-dd19-4a29196a4275"
      },
      "execution_count": 10,
      "outputs": [
        {
          "output_type": "stream",
          "name": "stdout",
          "text": [
            "True\n"
          ]
        }
      ]
    },
    {
      "cell_type": "markdown",
      "source": [
        "not in: Es un operador de pertenencia que evalúa como True si un valor no se encuentra en una secuencia.\n",
        "\n"
      ],
      "metadata": {
        "id": "zbq2LUDQM7jk"
      }
    },
    {
      "cell_type": "code",
      "source": [
        "#EJEMPLO\n",
        "colores = [\"rojo\", \"verde\", \"azul\"]\n",
        "print(\"amarillo\" not in colores)"
      ],
      "metadata": {
        "colab": {
          "base_uri": "https://localhost:8080/"
        },
        "id": "zczd0iUvM_4x",
        "outputId": "4a77bc0f-6875-489a-f5e1-96d6fc8ebd43"
      },
      "execution_count": 11,
      "outputs": [
        {
          "output_type": "stream",
          "name": "stdout",
          "text": [
            "True\n"
          ]
        }
      ]
    },
    {
      "cell_type": "markdown",
      "source": [
        "Operador Walrus (:=): Es el operador de asignación (:=). Asigna un valor a una variable y la devuelve al mismo tiempo, lo que permite asignar y probar en una sola línea.\n",
        "\n"
      ],
      "metadata": {
        "id": "05Hzo3fcNBrA"
      }
    },
    {
      "cell_type": "code",
      "source": [
        "#EJEMPLO\n",
        "if (n := len(\"Python\")) > 5:\n",
        "    print(f\"La longitud es {n}, mayor que 5.\")"
      ],
      "metadata": {
        "colab": {
          "base_uri": "https://localhost:8080/"
        },
        "id": "_70ujMXfNENi",
        "outputId": "d3969026-46ce-4cbd-d0f6-d44a602158ea"
      },
      "execution_count": 12,
      "outputs": [
        {
          "output_type": "stream",
          "name": "stdout",
          "text": [
            "La longitud es 6, mayor que 5.\n"
          ]
        }
      ]
    },
    {
      "cell_type": "markdown",
      "source": [
        "super(): Es una función incorporada, pero funciona como una palabra clave. Se utiliza en clases para llamar a un método de la clase padre (superclase).\n",
        "\n"
      ],
      "metadata": {
        "id": "vfO3ugJKNGNa"
      }
    },
    {
      "cell_type": "code",
      "source": [
        "#EJEMPLO\n",
        "class Animal:\n",
        "    def __init__(self, nombre):\n",
        "        self.nombre = nombre\n",
        "class Perro(Animal):\n",
        "    def __init__(self, nombre, raza):\n",
        "        super().__init__(nombre)\n",
        "        self.raza = raza\n",
        "        print(f\"Se ha creado un perro llamado {self.nombre} de raza {self.raza}.\")\n",
        "perro = Perro(\"Fido\", \"Labrador\")"
      ],
      "metadata": {
        "colab": {
          "base_uri": "https://localhost:8080/"
        },
        "id": "Xe_4D2VpNIs3",
        "outputId": "ab0c7c4d-df25-40bc-fd79-8435f26ac267"
      },
      "execution_count": 13,
      "outputs": [
        {
          "output_type": "stream",
          "name": "stdout",
          "text": [
            "Se ha creado un perro llamado Fido de raza Labrador.\n"
          ]
        }
      ]
    }
  ]
}