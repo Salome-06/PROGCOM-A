{
  "nbformat": 4,
  "nbformat_minor": 0,
  "metadata": {
    "colab": {
      "provenance": [],
      "authorship_tag": "ABX9TyNTaK13l28nQD1sbsNeHBSv",
      "include_colab_link": true
    },
    "kernelspec": {
      "name": "python3",
      "display_name": "Python 3"
    },
    "language_info": {
      "name": "python"
    }
  },
  "cells": [
    {
      "cell_type": "markdown",
      "metadata": {
        "id": "view-in-github",
        "colab_type": "text"
      },
      "source": [
        "<a href=\"https://colab.research.google.com/github/Salome-06/PROGCOM-A/blob/main/Ejercicios_clase_2_extra.ipynb\" target=\"_parent\"><img src=\"https://colab.research.google.com/assets/colab-badge.svg\" alt=\"Open In Colab\"/></a>"
      ]
    },
    {
      "cell_type": "markdown",
      "source": [
        "##10 EJERCICIOS PARTE 2\n",
        "  1. Escribe un programa que imprima los números del 1 al 10.\n"
      ],
      "metadata": {
        "id": "X2i3P3mbDqf6"
      }
    },
    {
      "cell_type": "code",
      "source": [
        "for i in range(10):\n",
        "  print(i+1)"
      ],
      "metadata": {
        "id": "93DGnDd7D4Ub"
      },
      "execution_count": null,
      "outputs": []
    },
    {
      "cell_type": "code",
      "source": [
        "numeros=[]\n",
        "for i in range (10):\n",
        " numeros.append(i+1)\n",
        "print(numeros)"
      ],
      "metadata": {
        "id": "dt9k56nzElxZ"
      },
      "execution_count": null,
      "outputs": []
    },
    {
      "cell_type": "markdown",
      "source": [
        "2. Escribe un programa que sume los números del 1 al 100.\n"
      ],
      "metadata": {
        "id": "klCLYMRoD9md"
      }
    },
    {
      "cell_type": "code",
      "source": [
        "suma=0\n",
        "i=[1-100]\n",
        "for i in range (101):\n",
        "  suma= i+suma\n",
        "print(suma)"
      ],
      "metadata": {
        "id": "BffNgZIZECYc"
      },
      "execution_count": null,
      "outputs": []
    },
    {
      "cell_type": "code",
      "source": [
        "suma_numeros = []\n",
        "suma=0\n",
        "for i in range (101):\n",
        "  suma = i+suma\n",
        "  suma_numeros.append(suma)\n",
        "print(suma_numeros)"
      ],
      "metadata": {
        "id": "ox48Sm4mEpYk"
      },
      "execution_count": null,
      "outputs": []
    },
    {
      "cell_type": "markdown",
      "source": [
        "3. Escribe un programa que imprima los múltiplos de 3 entre 1 y 30."
      ],
      "metadata": {
        "id": "t_g4NBXfEsOS"
      }
    },
    {
      "cell_type": "code",
      "source": [
        "for i in range(3,31,3):\n",
        " print(i)"
      ],
      "metadata": {
        "id": "h1QY0XwzEvYJ"
      },
      "execution_count": null,
      "outputs": []
    },
    {
      "cell_type": "code",
      "source": [
        "multiplos_de_3=[]\n",
        "for i in range(3,31,3):\n",
        " multiplos_de_3.append(i)\n",
        "print(multiplos_de_3)"
      ],
      "metadata": {
        "id": "wACL8al3EyPu"
      },
      "execution_count": null,
      "outputs": []
    },
    {
      "cell_type": "markdown",
      "source": [
        "4. Escribe un programa que lea un número e imprima su tabla de multiplicar del 1 al 10."
      ],
      "metadata": {
        "id": "UpBm_KsiE0tE"
      }
    },
    {
      "cell_type": "code",
      "source": [
        " s=int(input(\"Ingrese el numero a multiplicar:\"))\n",
        " print(f\"Tabla del {i}\")\n",
        " for i in range(1,11,1):\n",
        "   print(f\"{s} x {i} = {s*i}\")"
      ],
      "metadata": {
        "id": "Qahurz3vE4eW"
      },
      "execution_count": null,
      "outputs": []
    },
    {
      "cell_type": "code",
      "source": [
        "tabla_elegida=[]\n",
        "s=int(input(\"Ingrese el numero a multiplicar:\"))\n",
        "print(\"\")\n",
        "print(f\"Tabla del {s}\")\n",
        "for i in range(1,11,1):\n",
        "  multiplicar=s*i\n",
        "  tabla_elegida.append(multiplicar)\n",
        "print(tabla_elegida)"
      ],
      "metadata": {
        "id": "qa4AiNvLE60K"
      },
      "execution_count": null,
      "outputs": []
    },
    {
      "cell_type": "markdown",
      "source": [
        "5. Escribe un programa que pida 5 números al usuario y calcule el promedio"
      ],
      "metadata": {
        "id": "1Dh8YxFuE-K0"
      }
    },
    {
      "cell_type": "code",
      "source": [
        "for i in range(5):\n",
        "   numeros=int(input(\"Ingresa un numero: \"))\n",
        "suma=numeros+numeros\n",
        "promedio=(suma)/5\n",
        "print(promedio)"
      ],
      "metadata": {
        "id": "WXS1YQsgFBO-"
      },
      "execution_count": null,
      "outputs": []
    },
    {
      "cell_type": "code",
      "source": [
        "numeros = []\n",
        "for i in range(5):\n",
        "    num = float(input(f\"Ingresa el número {i+1}: \"))\n",
        "    numeros.append(num)\n",
        "suma = sum(numeros)\n",
        "\n",
        "promedio = suma / cantidad\n",
        "print(f\"La suma de los números es: {suma}\")\n",
        "print(f\"El promedio de los números es: {promedio}\")"
      ],
      "metadata": {
        "id": "MkN-fA7DFDhI"
      },
      "execution_count": null,
      "outputs": []
    },
    {
      "cell_type": "markdown",
      "source": [
        "6. Escribe un programa que cuente cuántos números pares hay entre 1 y un número ingresado"
      ],
      "metadata": {
        "id": "-Vyg1mS_FHBm"
      }
    },
    {
      "cell_type": "code",
      "source": [
        "n = int(input(\"Ingresa un número: \"))\n",
        "contador = 0\n",
        "for i in range(1, n + 1):\n",
        "    if i % 2 == 0:\n",
        "        contador += 1\n",
        "print(f\"Hay {contador} números pares entre 1 y {n}.\")\n",
        "\n"
      ],
      "metadata": {
        "id": "elQS6AV5FGrm"
      },
      "execution_count": null,
      "outputs": []
    },
    {
      "cell_type": "code",
      "source": [
        "n = int(input(\"Ingresa un número: \"))\n",
        "pares = [i for i in range(1, n + 1) if i % 2 == 0]\n",
        "print(f\"Los números pares son: {pares}\")\n",
        "print(f\"Hay {len(pares)} números pares entre 1 y {n}.\")"
      ],
      "metadata": {
        "id": "vsWiNlhNFRLe"
      },
      "execution_count": null,
      "outputs": []
    }
  ]
}