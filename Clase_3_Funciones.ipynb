{
  "nbformat": 4,
  "nbformat_minor": 0,
  "metadata": {
    "colab": {
      "provenance": [],
      "authorship_tag": "ABX9TyNruf/LeSeVRQXeBK1m/sUQ",
      "include_colab_link": true
    },
    "kernelspec": {
      "name": "python3",
      "display_name": "Python 3"
    },
    "language_info": {
      "name": "python"
    }
  },
  "cells": [
    {
      "cell_type": "markdown",
      "metadata": {
        "id": "view-in-github",
        "colab_type": "text"
      },
      "source": [
        "<a href=\"https://colab.research.google.com/github/Salome-06/PROGCOM-A/blob/main/Clase_3_Funciones.ipynb\" target=\"_parent\"><img src=\"https://colab.research.google.com/assets/colab-badge.svg\" alt=\"Open In Colab\"/></a>"
      ]
    },
    {
      "cell_type": "markdown",
      "source": [
        "##FUNCIONES\n",
        "Copiado dinamico\n",
        "Dio nacimiento a un nuevo paradigma de programacion llamado modular.\n",
        "Forma general de programar funciones\n",
        "##Forma de programas funciones\n",
        "\n",
        "\n",
        "\n",
        "```\n",
        "def (nombre_de_funcion) (p,p2,p3...pm):\n",
        "  donde p,p2,p3...pn: son parametros\n",
        "```\n",
        "\n",
        "\n"
      ],
      "metadata": {
        "id": "jH2ZWDk14HXF"
      }
    },
    {
      "cell_type": "markdown",
      "source": [
        "1.    list ()\n",
        "2.    len()\n",
        "3.  print ()\n",
        "4.  append () #POO Metodo\n",
        "5.  int ()\n",
        "6.  input()"
      ],
      "metadata": {
        "id": "9daE5hob4cRM"
      }
    },
    {
      "cell_type": "markdown",
      "source": [
        "##Tipos de funciones\n",
        "1. Sin parametros, sin retorno\n",
        "2. Sin parametros, con retorno\n",
        "3. Con parametros, sin retorno\n",
        "4. Con parametros, con retorno"
      ],
      "metadata": {
        "id": "JhkxboAk4f2M"
      }
    },
    {
      "cell_type": "markdown",
      "source": [
        "## 1. Sin parametros, sin retorno\n",
        "\n",
        "Se emplea como copiado dinamico\n"
      ],
      "metadata": {
        "id": "u6EyNEnF5iJz"
      }
    },
    {
      "cell_type": "code",
      "source": [
        "#Ejemplo: Entrada de cajero electronico\n",
        "def cajero():# Esto significa que es sin parametros\n",
        "  print(\"Bienvenido a DaviUNAB\")\n",
        "  print(\"Estas son las operaciones que se puede realizar:\")\n",
        "  print(\"1. Retirar\\n2.Transferencia\\n3.Denunciar\\n4.Operaciones sin tarjeta\")\n",
        ""
      ],
      "metadata": {
        "id": "XA1fHEaV5tBT"
      },
      "execution_count": 7,
      "outputs": []
    },
    {
      "cell_type": "code",
      "source": [
        "cajero()"
      ],
      "metadata": {
        "colab": {
          "base_uri": "https://localhost:8080/"
        },
        "id": "rvVQj2A57ksS",
        "outputId": "e5986915-464c-491b-9f01-b089842d77b4"
      },
      "execution_count": 8,
      "outputs": [
        {
          "output_type": "stream",
          "name": "stdout",
          "text": [
            "Bienvenido a DaviUNAB\n",
            "Estas son las operaciones que se puede realizar:\n",
            "1. Retirar\n",
            "2.Transferencia\n",
            "3.Denunciar\n",
            "4.Operaciones sin tarjeta\n"
          ]
        }
      ]
    },
    {
      "cell_type": "markdown",
      "source": [
        "##2. Sin parametros, con retorno"
      ],
      "metadata": {
        "id": "qBSgKyB87t9J"
      }
    },
    {
      "cell_type": "code",
      "source": [
        "def cajero2():# Esto significa que es sin parametros\n",
        "  print(\"Bienvenido a DaviUNAB\")\n",
        "  print(\"Estas son las operaciones que se puede realizar:\")\n",
        "  print(\"1. Retirar\\n2.Transferencia\\n3.Denunciar\\n4.Operaciones sin tarjeta\")\n",
        "  rta=input(\"Ingrese una opcion \")#Variable local\n",
        "  return rta#Vuela una variable local a global"
      ],
      "metadata": {
        "id": "8an49nY-75k5"
      },
      "execution_count": 11,
      "outputs": []
    },
    {
      "cell_type": "code",
      "source": [
        "cajero2()"
      ],
      "metadata": {
        "colab": {
          "base_uri": "https://localhost:8080/"
        },
        "id": "Ew68oI6X8Usp",
        "outputId": "e873bd69-2600-4e59-9aa9-b8f958ca0f6c"
      },
      "execution_count": 12,
      "outputs": [
        {
          "name": "stdout",
          "output_type": "stream",
          "text": [
            "Bienvenido a DaviUNAB\n",
            "Estas son las operaciones que se puede realizar:\n",
            "1. Retirar\n",
            "2.Transferencia\n",
            "3.Denunciar\n",
            "4.Operaciones sin tarjeta\n",
            "Ingrese una opcion 2\n"
          ]
        }
      ]
    },
    {
      "cell_type": "code",
      "source": [
        "rta=cajero2()"
      ],
      "metadata": {
        "colab": {
          "base_uri": "https://localhost:8080/"
        },
        "id": "EAbntGNK9pcQ",
        "outputId": "1835764d-cbab-46b6-90a3-601edf3fbd04"
      },
      "execution_count": 13,
      "outputs": [
        {
          "name": "stdout",
          "output_type": "stream",
          "text": [
            "Bienvenido a DaviUNAB\n",
            "Estas son las operaciones que se puede realizar:\n",
            "1. Retirar\n",
            "2.Transferencia\n",
            "3.Denunciar\n",
            "4.Operaciones sin tarjeta\n",
            "Ingrese una opcion 2\n"
          ]
        }
      ]
    },
    {
      "cell_type": "code",
      "source": [
        "type(rta)"
      ],
      "metadata": {
        "colab": {
          "base_uri": "https://localhost:8080/"
        },
        "id": "QOUsTdHY-V8n",
        "outputId": "5f59a600-3400-4a68-d3e7-b9dd961c31af"
      },
      "execution_count": 14,
      "outputs": [
        {
          "output_type": "execute_result",
          "data": {
            "text/plain": [
              "NoneType"
            ]
          },
          "metadata": {},
          "execution_count": 14
        }
      ]
    },
    {
      "cell_type": "markdown",
      "source": [
        "##3. Con parametros, sin retorno"
      ],
      "metadata": {
        "id": "tYxMmr2c-aFW"
      }
    },
    {
      "cell_type": "code",
      "source": [
        "#Ejemplo: el area de un rectangulo\n",
        "def ab(u,du):\n",
        "  print(f\"El area de un rectangulo de base {u} y la altura {du} es {u*du}\")"
      ],
      "metadata": {
        "id": "TMG91Swx-eVP"
      },
      "execution_count": 16,
      "outputs": []
    },
    {
      "cell_type": "code",
      "source": [
        "ab(2,3)"
      ],
      "metadata": {
        "colab": {
          "base_uri": "https://localhost:8080/"
        },
        "id": "lPELLj9U-3D3",
        "outputId": "7a6b0dbb-df8c-4b95-a9b9-207fa4b75977"
      },
      "execution_count": 17,
      "outputs": [
        {
          "output_type": "stream",
          "name": "stdout",
          "text": [
            "El area de un rectangulo de base 2 y la altura 3 es 6\n"
          ]
        }
      ]
    },
    {
      "cell_type": "markdown",
      "source": [
        "##4. Con parametros, con retorno"
      ],
      "metadata": {
        "id": "1ND2Ec2yAGYe"
      }
    },
    {
      "cell_type": "code",
      "source": [
        "#Ejemplo: el area de un rectangulo\n",
        "def area_rectangulo(u,du):\n",
        "  return f\"El area de un rectangulo de base {u} y altura {du} es {u*du}\""
      ],
      "metadata": {
        "id": "pXK3U1FzAK-F"
      },
      "execution_count": 22,
      "outputs": []
    },
    {
      "cell_type": "code",
      "source": [
        "a=area_rectangulo(10,15)"
      ],
      "metadata": {
        "id": "O208WtdxAgKd"
      },
      "execution_count": 23,
      "outputs": []
    },
    {
      "cell_type": "code",
      "source": [
        "print(a)"
      ],
      "metadata": {
        "colab": {
          "base_uri": "https://localhost:8080/"
        },
        "id": "1-ak0qWsAk9M",
        "outputId": "1ca4f25e-893d-40d3-9a49-db0b9fc1ef55"
      },
      "execution_count": 24,
      "outputs": [
        {
          "output_type": "stream",
          "name": "stdout",
          "text": [
            "El area de un rectangulo de base 10 y altura 15 es 150\n"
          ]
        }
      ]
    },
    {
      "cell_type": "markdown",
      "source": [
        "##FUNCIONES ANONIMAS O LAMBDA\n",
        "1. Siempre usan parametros\n",
        "2. Siempre genera retorno\n",
        "3. No tienen nombre--> anonimas\n",
        "4. **Se puede emplear n parametros, pero solo ejecuta una linea de codigo**\n",
        "##Definicion de funciones LAMBDA\n",
        "\n",
        "\n",
        "```\n",
        "variable=lambda (p,p1,p2,...,pn):\n",
        "operacion\n",
        "```\n",
        "\n"
      ],
      "metadata": {
        "id": "VpzW7cT8B-Zs"
      }
    },
    {
      "cell_type": "code",
      "source": [
        "#Ejemplo: calcular el area de un triangulo\n",
        "area_triangulo=lambda a,b:a*b/2"
      ],
      "metadata": {
        "id": "rAkG-IhpDL-i"
      },
      "execution_count": 25,
      "outputs": []
    },
    {
      "cell_type": "code",
      "source": [
        "area_triangulo(3,8)"
      ],
      "metadata": {
        "colab": {
          "base_uri": "https://localhost:8080/"
        },
        "id": "cOKQ8XIYDetq",
        "outputId": "73fcf510-91e4-4cd7-84a4-65c7d315573d"
      },
      "execution_count": 26,
      "outputs": [
        {
          "output_type": "execute_result",
          "data": {
            "text/plain": [
              "12.0"
            ]
          },
          "metadata": {},
          "execution_count": 26
        }
      ]
    },
    {
      "cell_type": "code",
      "source": [
        "x=int(input(\"Ingrese la altura de un triangulo\"))\n",
        "y=int(input(\"Ingrese la base de un triangulo\"))\n",
        "area_triangulo(x,y)"
      ],
      "metadata": {
        "colab": {
          "base_uri": "https://localhost:8080/"
        },
        "id": "NJ6VaB0hEBmC",
        "outputId": "534433f8-447f-44db-f93d-07efb589fdf5"
      },
      "execution_count": 27,
      "outputs": [
        {
          "name": "stdout",
          "output_type": "stream",
          "text": [
            "Ingrese la altura de un triangulo4\n",
            "Ingrese la base de un triangulo5\n"
          ]
        },
        {
          "output_type": "execute_result",
          "data": {
            "text/plain": [
              "10.0"
            ]
          },
          "metadata": {},
          "execution_count": 27
        }
      ]
    },
    {
      "cell_type": "code",
      "source": [
        "pi=3.1416\n",
        "area_circulo=lambda r:pi*r**2"
      ],
      "metadata": {
        "id": "tUTz8akpEYea"
      },
      "execution_count": 30,
      "outputs": []
    },
    {
      "cell_type": "code",
      "source": [
        "area_circulo(5)"
      ],
      "metadata": {
        "colab": {
          "base_uri": "https://localhost:8080/"
        },
        "id": "lWCeDzgrFcGA",
        "outputId": "659bae97-e6bb-4f7a-dc7a-775e8c4dbbab"
      },
      "execution_count": 31,
      "outputs": [
        {
          "output_type": "execute_result",
          "data": {
            "text/plain": [
              "78.53999999999999"
            ]
          },
          "metadata": {},
          "execution_count": 31
        }
      ]
    },
    {
      "cell_type": "code",
      "source": [
        "mayor= lambda m,c,p: m if m>c>p else c if c>p else p"
      ],
      "metadata": {
        "id": "O-HH0AfbG11I"
      },
      "execution_count": 39,
      "outputs": []
    },
    {
      "cell_type": "code",
      "source": [
        "mayor(1,4,6)"
      ],
      "metadata": {
        "colab": {
          "base_uri": "https://localhost:8080/"
        },
        "id": "DdZwJKCiHJL_",
        "outputId": "24a73f21-4914-4ad4-9b71-61e7f4a542aa"
      },
      "execution_count": 40,
      "outputs": [
        {
          "output_type": "execute_result",
          "data": {
            "text/plain": [
              "6"
            ]
          },
          "metadata": {},
          "execution_count": 40
        }
      ]
    }
  ]
}