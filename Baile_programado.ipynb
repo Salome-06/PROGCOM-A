{
  "nbformat": 4,
  "nbformat_minor": 0,
  "metadata": {
    "colab": {
      "provenance": [],
      "authorship_tag": "ABX9TyOauzpKaVMeZMlffsPP7yqV",
      "include_colab_link": true
    },
    "kernelspec": {
      "name": "python3",
      "display_name": "Python 3"
    },
    "language_info": {
      "name": "python"
    }
  },
  "cells": [
    {
      "cell_type": "markdown",
      "metadata": {
        "id": "view-in-github",
        "colab_type": "text"
      },
      "source": [
        "<a href=\"https://colab.research.google.com/github/Salome-06/PROGCOM-A/blob/main/Baile_programado.ipynb\" target=\"_parent\"><img src=\"https://colab.research.google.com/assets/colab-badge.svg\" alt=\"Open In Colab\"/></a>"
      ]
    },
    {
      "cell_type": "markdown",
      "source": [
        "1. ##POSE INICIAL"
      ],
      "metadata": {
        "id": "x8QroznnjzmJ"
      }
    },
    {
      "cell_type": "code",
      "execution_count": 2,
      "metadata": {
        "id": "IT85Y5RpjlNm"
      },
      "outputs": [],
      "source": [
        "def pose_inicial(a):\n",
        "  for i in range (a):\n",
        "   print (\"Deslizar pie derecho en 45 grados\")\n",
        "   print (\"Levantar brazo izquierdo en L\")"
      ]
    },
    {
      "cell_type": "code",
      "source": [
        "pose_inicial (1)"
      ],
      "metadata": {
        "colab": {
          "base_uri": "https://localhost:8080/"
        },
        "id": "ag4PV_9fkApF",
        "outputId": "31f7b560-38d0-4adb-8b17-e3aeeba0375f"
      },
      "execution_count": 3,
      "outputs": [
        {
          "output_type": "stream",
          "name": "stdout",
          "text": [
            "Deslizar pie derecho en 45 grados\n",
            "Levantar brazo izquierdo en L\n"
          ]
        }
      ]
    },
    {
      "cell_type": "markdown",
      "source": [
        "2. ##MOVER BRAZOS SEPARADOSPOR CUATRO VECES"
      ],
      "metadata": {
        "id": "LBpulW2bkV2A"
      }
    },
    {
      "cell_type": "code",
      "source": [
        "def mover_brazos (a):\n",
        "  for i in range (a):\n",
        "    print(\"Alzar brazo izquierdo\")\n",
        "    print(\"Alzar brazo derecho\")"
      ],
      "metadata": {
        "id": "mLaXAulwkbbe"
      },
      "execution_count": 4,
      "outputs": []
    },
    {
      "cell_type": "code",
      "source": [
        "mover_brazos(2)"
      ],
      "metadata": {
        "colab": {
          "base_uri": "https://localhost:8080/"
        },
        "id": "TfePEAnskjRo",
        "outputId": "bb1b9de7-bf4a-4a62-c112-cdc9c0a826a8"
      },
      "execution_count": 5,
      "outputs": [
        {
          "output_type": "stream",
          "name": "stdout",
          "text": [
            "Alzar brazo izquierdo\n",
            "Alzar brazo derecho\n",
            "Alzar brazo izquierdo\n",
            "Alzar brazo derecho\n"
          ]
        }
      ]
    },
    {
      "cell_type": "markdown",
      "source": [
        "3. ##DAR PEQUEÑOS SALTOS CUATRO VECES"
      ],
      "metadata": {
        "id": "IoUNbkNgklx9"
      }
    },
    {
      "cell_type": "code",
      "source": [
        "def saltar(a,b):\n",
        " for j in range(a):\n",
        "  print(\"Poner los puños en la cintura\")\n",
        " for i in range(b):\n",
        "  print(\"Dar un pequeño salto\")"
      ],
      "metadata": {
        "id": "z5Rpu1VMkqsF"
      },
      "execution_count": 6,
      "outputs": []
    },
    {
      "cell_type": "code",
      "source": [
        "saltar(1,4)"
      ],
      "metadata": {
        "colab": {
          "base_uri": "https://localhost:8080/"
        },
        "id": "1nM7E44akxop",
        "outputId": "0658793b-629a-48f7-c586-e9b2f22ec0b9"
      },
      "execution_count": 7,
      "outputs": [
        {
          "output_type": "stream",
          "name": "stdout",
          "text": [
            "Poner los puños en la cintura\n",
            "Dar un pequeño salto\n",
            "Dar un pequeño salto\n",
            "Dar un pequeño salto\n",
            "Dar un pequeño salto\n"
          ]
        }
      ]
    },
    {
      "cell_type": "markdown",
      "source": [
        "4. ##MOVER CINTURA"
      ],
      "metadata": {
        "id": "k2o0hoVrk0EO"
      }
    },
    {
      "cell_type": "code",
      "source": [
        "def mover_cintura(a,b):\n",
        "  for i in range(a):\n",
        "    print(\"Levantar los brazos en V\")\n",
        "  for i in range (b):\n",
        "    print(\"Mover cadera a la izquierda\")\n",
        "    print(\"Mover cadera a la derecha\")"
      ],
      "metadata": {
        "id": "I9SzqbE7k1_Q"
      },
      "execution_count": 8,
      "outputs": []
    },
    {
      "cell_type": "code",
      "source": [
        "mover_cintura(1,2)"
      ],
      "metadata": {
        "colab": {
          "base_uri": "https://localhost:8080/"
        },
        "id": "CgnU6jikk8im",
        "outputId": "566cbe65-c9ed-4bf2-99e6-8e3d51edf57b"
      },
      "execution_count": 9,
      "outputs": [
        {
          "output_type": "stream",
          "name": "stdout",
          "text": [
            "Levantar los brazos en V\n",
            "Mover cadera a la izquierda\n",
            "Mover cadera a la derecha\n",
            "Mover cadera a la izquierda\n",
            "Mover cadera a la derecha\n"
          ]
        }
      ]
    },
    {
      "cell_type": "markdown",
      "source": [
        "5. ##HACER UNA V CON LOS BRAZOS HACIA ABAJO"
      ],
      "metadata": {
        "id": "deP-ePnGk97E"
      }
    },
    {
      "cell_type": "code",
      "source": [
        "def brazos_abajo(a):\n",
        "  for i in range(a):\n",
        "    print(\"Bajar los brazos en V invertida\")"
      ],
      "metadata": {
        "id": "7b7Y4Xr8lD1Z"
      },
      "execution_count": 10,
      "outputs": []
    },
    {
      "cell_type": "code",
      "source": [
        "brazos_abajo(1)"
      ],
      "metadata": {
        "colab": {
          "base_uri": "https://localhost:8080/"
        },
        "id": "ZWqpkE5BlHdE",
        "outputId": "9f073a06-95bc-430e-e5de-f828f71dd5f8"
      },
      "execution_count": 11,
      "outputs": [
        {
          "output_type": "stream",
          "name": "stdout",
          "text": [
            "Bajar los brazos en V invertida\n"
          ]
        }
      ]
    },
    {
      "cell_type": "markdown",
      "source": [
        "6. ##SACUDIR LOS BRAZOS"
      ],
      "metadata": {
        "id": "3y4e7YgdlKGX"
      }
    },
    {
      "cell_type": "code",
      "source": [
        "def sacudir_brazos(a,b):\n",
        "  for i in range(b):\n",
        "    print(\"Poner brazo derecho a 90 grados \")\n",
        "    print(\"Poner brazo izquierdo a 90 grados\")\n",
        "  for i in range(a):\n",
        "     print(\"Sacudir brazos de derecha a izquierda\")"
      ],
      "metadata": {
        "id": "aRgWtgZ5lNzS"
      },
      "execution_count": 12,
      "outputs": []
    },
    {
      "cell_type": "code",
      "source": [
        "sacudir_brazos(2,1)"
      ],
      "metadata": {
        "colab": {
          "base_uri": "https://localhost:8080/"
        },
        "id": "WEm3qzQmlWr7",
        "outputId": "096c7941-4715-42bc-9989-6b1295f91020"
      },
      "execution_count": 13,
      "outputs": [
        {
          "output_type": "stream",
          "name": "stdout",
          "text": [
            "Poner brazo derecho a 90 grados \n",
            "Poner brazo izquierdo a 90 grados\n",
            "Sacudir brazos de derecha a izquierda\n",
            "Sacudir brazos de derecha a izquierda\n"
          ]
        }
      ]
    },
    {
      "cell_type": "markdown",
      "source": [
        "7. ##POSICION DE PATO Y MOVER LA COLA"
      ],
      "metadata": {
        "id": "dH1_IgdKlag1"
      }
    },
    {
      "cell_type": "code",
      "source": [
        "def posicion_pato(a,b):\n",
        "  for i in range(a):\n",
        "    print(\"Separar pies y juntar rodillas\")\n",
        "  for i in range(b):\n",
        "    print(\"Mover cola a la derecha\")\n",
        "    print(\"Mover cola a la izquierda\")"
      ],
      "metadata": {
        "id": "wNYpH0cblfwF"
      },
      "execution_count": 14,
      "outputs": []
    },
    {
      "cell_type": "code",
      "source": [
        "posicion_pato(1,2)"
      ],
      "metadata": {
        "colab": {
          "base_uri": "https://localhost:8080/"
        },
        "id": "Xowv_G2Tll1Q",
        "outputId": "9ac5c9b5-e342-4e3a-910f-0efd80d89ca0"
      },
      "execution_count": 15,
      "outputs": [
        {
          "output_type": "stream",
          "name": "stdout",
          "text": [
            "Separar pies y juntar rodillas\n",
            "Mover cola a la derecha\n",
            "Mover cola a la izquierda\n",
            "Mover cola a la derecha\n",
            "Mover cola a la izquierda\n"
          ]
        }
      ]
    },
    {
      "cell_type": "markdown",
      "source": [
        "8. ##DESLIZAR EL CUERPO"
      ],
      "metadata": {
        "id": "H1X6rEe0lpQy"
      }
    },
    {
      "cell_type": "code",
      "source": [
        "def deslizar_cuerpo(a,b):\n",
        "  for i in range(a):\n",
        "    print(\"Juntar piernas\")\n",
        "    print(\"Juntar brazos\")\n",
        "  for i in range(b):\n",
        "    print(\"Deslizar piernas hacia la izquierda\")\n",
        "    print(\"Mover brazos hacia la derecha\")\n",
        "    print(\"Deslizar piernas hacia la derecha\")\n",
        "    print(\"Mover brazos hacia la izquierda\")\n",
        "    print(\"Deslizar piernas hacia la izquierda\")\n",
        "    print(\"Mover brazos hacia la derecha\")"
      ],
      "metadata": {
        "id": "72zPuVQ0lsOA"
      },
      "execution_count": 16,
      "outputs": []
    },
    {
      "cell_type": "code",
      "source": [
        "deslizar_cuerpo(1,1)"
      ],
      "metadata": {
        "colab": {
          "base_uri": "https://localhost:8080/"
        },
        "id": "8RLVM2i7lvxR",
        "outputId": "e82bfc6c-4f15-4fb1-82c8-faec3c98d9d6"
      },
      "execution_count": 17,
      "outputs": [
        {
          "output_type": "stream",
          "name": "stdout",
          "text": [
            "Juntar piernas\n",
            "Juntar brazos\n",
            "Deslizar piernas hacia la izquierda\n",
            "Mover brazos hacia la derecha\n",
            "Deslizar piernas hacia la derecha\n",
            "Mover brazos hacia la izquierda\n",
            "Deslizar piernas hacia la izquierda\n",
            "Mover brazos hacia la derecha\n"
          ]
        }
      ]
    },
    {
      "cell_type": "markdown",
      "source": [
        "9. ##LEVANTAR PIE"
      ],
      "metadata": {
        "id": "mI5BD1GFlyUD"
      }
    },
    {
      "cell_type": "code",
      "source": [
        "def levantar_pie(a,b):\n",
        " for i in range(b):\n",
        "  print (\"Poner los brazos al frente\")\n",
        " for i in range(a):\n",
        "  print(\"Girar brazos hacia la derecha\")\n",
        "  print(\"Levantar pierna derecha  hacia la izquierda\")\n",
        "  print(\"Girar brazos hacia la izquierda\")\n",
        "  print(\"Levantar pierna izquierda hacia la derecha\")"
      ],
      "metadata": {
        "id": "e9mC4e68l1sx"
      },
      "execution_count": 18,
      "outputs": []
    },
    {
      "cell_type": "code",
      "source": [
        "levantar_pie(1,1)"
      ],
      "metadata": {
        "colab": {
          "base_uri": "https://localhost:8080/"
        },
        "id": "Q-XRenr7l_U2",
        "outputId": "638b019d-3388-4557-c942-0f8ca3f7094c"
      },
      "execution_count": 19,
      "outputs": [
        {
          "output_type": "stream",
          "name": "stdout",
          "text": [
            "Poner los brazos al frente\n",
            "Girar brazos hacia la derecha\n",
            "Levantar pierna derecha  hacia la izquierda\n",
            "Girar brazos hacia la izquierda\n",
            "Levantar pierna izquierda hacia la derecha\n"
          ]
        }
      ]
    },
    {
      "cell_type": "markdown",
      "source": [
        "10. ##PASO FINAL"
      ],
      "metadata": {
        "id": "co4Wnn74mED2"
      }
    },
    {
      "cell_type": "code",
      "source": [
        "def paso_final(a):\n",
        "  for i in range(a):\n",
        "    print(\"Tocar hombros con la mano contraria\")\n",
        "    print(\"Deslizar manos sobre las mejillas\")\n",
        "    print(\"Poner brazo en la cintura, levantar el otro brazo y levantar la pierna hacia la contraria\")"
      ],
      "metadata": {
        "id": "-NiLwX_jmHXf"
      },
      "execution_count": 20,
      "outputs": []
    },
    {
      "cell_type": "code",
      "source": [
        "paso_final(1)"
      ],
      "metadata": {
        "colab": {
          "base_uri": "https://localhost:8080/"
        },
        "id": "0Trgi38XmOf7",
        "outputId": "43ead4da-2a33-4aac-e2bb-436ab6a54b76"
      },
      "execution_count": 21,
      "outputs": [
        {
          "output_type": "stream",
          "name": "stdout",
          "text": [
            "Tocar hombros con la mano contraria\n",
            "Deslizar manos sobre las mejillas\n",
            "Poner brazo en la cintura, levantar el otro brazo y levantar la pierna hacia la contraria\n"
          ]
        }
      ]
    }
  ]
}