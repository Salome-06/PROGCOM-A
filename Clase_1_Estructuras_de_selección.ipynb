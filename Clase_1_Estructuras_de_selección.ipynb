{
  "nbformat": 4,
  "nbformat_minor": 0,
  "metadata": {
    "colab": {
      "provenance": [],
      "authorship_tag": "ABX9TyNVyyVz1r7qnUiP+InHGm3J",
      "include_colab_link": true
    },
    "kernelspec": {
      "name": "python3",
      "display_name": "Python 3"
    },
    "language_info": {
      "name": "python"
    }
  },
  "cells": [
    {
      "cell_type": "markdown",
      "metadata": {
        "id": "view-in-github",
        "colab_type": "text"
      },
      "source": [
        "<a href=\"https://colab.research.google.com/github/Salome-06/PROGCOM-A/blob/main/Clase_1_Estructuras_de_selecci%C3%B3n.ipynb\" target=\"_parent\"><img src=\"https://colab.research.google.com/assets/colab-badge.svg\" alt=\"Open In Colab\"/></a>"
      ]
    },
    {
      "cell_type": "markdown",
      "source": [
        "##Estructura de seleccion\n",
        "Se emplean cuando se debe evaluar una condicion y esta da un valor (V) o (F)\n"
      ],
      "metadata": {
        "id": "Ei7pTvyivNWZ"
      }
    },
    {
      "cell_type": "markdown",
      "source": [
        "\n",
        "\n",
        "```\n",
        "if (condicion):\n",
        " entro aqui, si la condicion es V.\n",
        "else:\n",
        " entro aqui, si la condicion es F.\n",
        "\n",
        "```\n",
        "\n",
        "\n"
      ],
      "metadata": {
        "id": "myaKvt8ivesQ"
      }
    },
    {
      "cell_type": "code",
      "source": [
        "1 #Escribe un programa que reciba un numero e indique si es positivo\n",
        "n=int(input(\"Ingrese un número\"))\n",
        "if n>0:\n",
        "  print (f\"(n) es un numero positivo\")\n",
        "else:\n",
        "  print(n,  \"NO es un numero positivo\")"
      ],
      "metadata": {
        "colab": {
          "base_uri": "https://localhost:8080/"
        },
        "id": "F2MZCpjiwAGg",
        "outputId": "a8473ec4-0eac-4bf0-a0f9-b91e56c6a82b"
      },
      "execution_count": 10,
      "outputs": [
        {
          "output_type": "stream",
          "name": "stdout",
          "text": [
            "Ingrese un número4\n",
            "(n) es un numero positivo\n"
          ]
        }
      ]
    },
    {
      "cell_type": "markdown",
      "source": [
        "##Seleccion multiple if-elif-else\n",
        "\n",
        "\n",
        "```\n",
        "if (condicion1):\n",
        "  si se cumple condicion 1, entro aqui\n",
        "elif (condicion2):\n",
        "  si no se cumple condicion 1, pero se cumple condicion 2, entro aqui\n",
        "else: Si no se cumple ninguna de las anteriores\n",
        "```\n",
        "\n"
      ],
      "metadata": {
        "id": "4paBrmK_z-ks"
      }
    },
    {
      "cell_type": "code",
      "source": [
        "n=int(input(\"Ingrese un número\"))\n",
        "if n>0:\n",
        "  print (f\"(n) es un numero positivo\")\n",
        "elif n<0:\n",
        "  print((n),  \"NO es un numero positivo\")\n",
        "else:\n",
        "   print(f\"(n) es 0\")\n",
        ""
      ],
      "metadata": {
        "colab": {
          "base_uri": "https://localhost:8080/"
        },
        "id": "HeEdmVlO0-aM",
        "outputId": "a409fcf8-e969-4d64-df74-ad84190fb287"
      },
      "execution_count": 15,
      "outputs": [
        {
          "output_type": "stream",
          "name": "stdout",
          "text": [
            "Ingrese un número6\n",
            "(n) es un numero positivo\n"
          ]
        }
      ]
    },
    {
      "cell_type": "markdown",
      "source": [
        "##Operador terniario\n",
        "Se usa cuando hay una condicion a evaluar simple y se desea resolver en una linea de codigo\n",
        "\n",
        "\n",
        "```\n",
        "(valor de verda V) if (condicion) else (valor de verdad F)\n",
        "```\n",
        "\n"
      ],
      "metadata": {
        "id": "taqHoWY610LM"
      }
    },
    {
      "cell_type": "code",
      "source": [
        "n=int(input(\"Ingrese un número\"))\n",
        "print (f\"(n) es un numero positivo\") if n>=0 else print(f\"(n) es un numero negativo\")"
      ],
      "metadata": {
        "colab": {
          "base_uri": "https://localhost:8080/"
        },
        "id": "61j500oT3CVi",
        "outputId": "d7dfac6a-bd04-4cec-8aac-772379aa548a"
      },
      "execution_count": 17,
      "outputs": [
        {
          "output_type": "stream",
          "name": "stdout",
          "text": [
            "Ingrese un número8\n",
            "(n) es un numero positivo\n"
          ]
        }
      ]
    },
    {
      "cell_type": "markdown",
      "source": [
        "##EJERCICIOS DE PRUEBA DIAGNOSTICA\n",
        "\n",
        "2.\tEscribe un programa que reciba una edad y determine si la persona es mayor de edad."
      ],
      "metadata": {
        "id": "kUFpf6Ll7E_I"
      }
    },
    {
      "cell_type": "code",
      "source": [
        "n=int(input(\" ingresa una edad\"))\n",
        "if n>=18:\n",
        "  print(\" es mayor de edad\")\n",
        "else:\n",
        "  n<=17\n",
        "  print(\" es menor de edad\")"
      ],
      "metadata": {
        "colab": {
          "base_uri": "https://localhost:8080/"
        },
        "id": "zhzSC87nATCa",
        "outputId": "18c3a25c-8b7c-484d-ec8e-8cd0e308b561"
      },
      "execution_count": 26,
      "outputs": [
        {
          "output_type": "stream",
          "name": "stdout",
          "text": [
            " ingresa una edad18\n",
            " es mayor de edad\n"
          ]
        }
      ]
    },
    {
      "cell_type": "code",
      "source": [
        "if n>=18:print(f\"{n} es mayor de edad\")\n",
        "elif n<=17:print(f\"{n} NO es mayor de edad\")\n",
        "else:print(f\"NO es mayor de edad\")"
      ],
      "metadata": {
        "colab": {
          "base_uri": "https://localhost:8080/"
        },
        "id": "lhBxVcSnBso5",
        "outputId": "e5b4583a-e1d6-48ab-ffb6-c6b72f07c0db"
      },
      "execution_count": 27,
      "outputs": [
        {
          "output_type": "stream",
          "name": "stdout",
          "text": [
            "18 es mayor de edad\n"
          ]
        }
      ]
    },
    {
      "cell_type": "code",
      "source": [
        "print(f\"{n} Es mayor de edad\") if n>=18 else print(f\"{n} NO es mayor de edad\")"
      ],
      "metadata": {
        "colab": {
          "base_uri": "https://localhost:8080/"
        },
        "id": "Gtm-QGD4BtqR",
        "outputId": "ba7d0a6b-7f8b-4219-e7aa-be7f57ebf88f"
      },
      "execution_count": 28,
      "outputs": [
        {
          "output_type": "stream",
          "name": "stdout",
          "text": [
            "18 Es mayor de edad\n"
          ]
        }
      ]
    },
    {
      "cell_type": "markdown",
      "source": [
        "3. Escribe un programa que reciba dos números e imprima el mayor."
      ],
      "metadata": {
        "id": "r_0X_q4nAUA6"
      }
    },
    {
      "cell_type": "code",
      "source": [
        "n1=int(input(\"ingresa un numero\"))\n",
        "n2=int(input(\"ingresa otro numero\"))\n",
        "if n1>n2:\n",
        "  print(n1, \"es mayor\")\n",
        "else:\n",
        "  n2>n1\n",
        "  print(n2, \"es mayor\")"
      ],
      "metadata": {
        "colab": {
          "base_uri": "https://localhost:8080/"
        },
        "id": "RXNjyriDAYY6",
        "outputId": "142a0b61-bf82-4d84-8cea-8b9174781fb0"
      },
      "execution_count": 29,
      "outputs": [
        {
          "output_type": "stream",
          "name": "stdout",
          "text": [
            "ingresa un numero19\n",
            "ingresa otro numero15\n",
            "19 es mayor\n"
          ]
        }
      ]
    },
    {
      "cell_type": "code",
      "source": [
        "if n1>n2:print(f\"{n} es mayor\")\n",
        "elif n2>n1:print(f\"{n} es mayor\")\n",
        "else:print(f\"NO es mayor\")"
      ],
      "metadata": {
        "id": "P8W0fjwZB5Kg"
      },
      "execution_count": null,
      "outputs": []
    },
    {
      "cell_type": "code",
      "source": [
        "print(f\"{n} es mayor\") if n1>n2 else print(f\"{n} es mayor \")"
      ],
      "metadata": {
        "id": "zXJEYgcgB8Vj"
      },
      "execution_count": null,
      "outputs": []
    },
    {
      "cell_type": "markdown",
      "source": [
        "4. Escribe un programa que reciba una calificación (0-100) e indique si es Aprobado (>=60) o Reprobado."
      ],
      "metadata": {
        "id": "6sXlmz9BAL2a"
      }
    },
    {
      "cell_type": "code",
      "source": [
        "n=int(input(\"Ingrese su calificacion\"))\n",
        "if n>=60:\n",
        "  print (f\"{n} aprobo\")\n",
        "else:\n",
        "  print (n, \"No aprobo\")"
      ],
      "metadata": {
        "colab": {
          "base_uri": "https://localhost:8080/"
        },
        "id": "KV89vUOZ8Rkd",
        "outputId": "ceb0031e-bef5-4850-b57f-f316aaa820c9"
      },
      "execution_count": 20,
      "outputs": [
        {
          "output_type": "stream",
          "name": "stdout",
          "text": [
            "Ingrese su calificacion58\n",
            "58 No aprobo\n"
          ]
        }
      ]
    },
    {
      "cell_type": "code",
      "source": [
        "n=int(input(\"Ingrese su calificacion\"))\n",
        "if n>=60:\n",
        "    print (f\"{n} aprobo\")\n",
        "elif n<60:\n",
        "    print (n, \"No aprobo\")\n",
        "else:\n",
        "  print(f\"(n) es 0\")\n"
      ],
      "metadata": {
        "colab": {
          "base_uri": "https://localhost:8080/"
        },
        "id": "w2RsKJ_a-M3U",
        "outputId": "c43a4cbf-c237-4045-ad1e-10175716190f"
      },
      "execution_count": 22,
      "outputs": [
        {
          "output_type": "stream",
          "name": "stdout",
          "text": [
            "Ingrese su calificacion70\n",
            "70 aprobo\n"
          ]
        }
      ]
    },
    {
      "cell_type": "code",
      "source": [
        "n=int(input(\"Ingrese su calificacion\"))\n",
        "print (f\"(n) Aprobo\") if n>=60 else print(f\"(n) No aprobo\")"
      ],
      "metadata": {
        "colab": {
          "base_uri": "https://localhost:8080/"
        },
        "id": "UyvUtwSa-2YL",
        "outputId": "02121a61-9263-4e64-f54c-cb70716440fe"
      },
      "execution_count": 25,
      "outputs": [
        {
          "output_type": "stream",
          "name": "stdout",
          "text": [
            "Ingrese su calificacion80\n",
            "(n) Aprobo\n"
          ]
        }
      ]
    },
    {
      "cell_type": "markdown",
      "source": [
        "5. Escribe un programa que determine si un número es par o impar."
      ],
      "metadata": {
        "id": "IT6h3wwPAZyy"
      }
    },
    {
      "cell_type": "code",
      "source": [
        "a=int(input(\"Ingrese un número\"))\n",
        "if a%2==0:\n",
        " print (f\"{a} es un número par\")\n",
        "else:\n",
        " print (a, \"es un número impar\")"
      ],
      "metadata": {
        "id": "GMYUqxaUAduC"
      },
      "execution_count": null,
      "outputs": []
    },
    {
      "cell_type": "code",
      "source": [
        "a=int(input(\"Ingrese un número \"))\n",
        "if a==0:\n",
        " print (a, \"es 0\")\n",
        "elif a%2==0:\n",
        " print (f\"{a} es un número par\")\n",
        "else:\n",
        " print (a, \"es un número impar\")"
      ],
      "metadata": {
        "id": "TUggemF6CnUI"
      },
      "execution_count": null,
      "outputs": []
    },
    {
      "cell_type": "code",
      "source": [],
      "metadata": {
        "id": "b4EXkIykCoHR"
      },
      "execution_count": null,
      "outputs": []
    },
    {
      "cell_type": "markdown",
      "source": [
        "6. Escribe un programa que reciba tres números e imprima el mayor de los tres."
      ],
      "metadata": {
        "id": "KKTf8bxdAd_a"
      }
    },
    {
      "cell_type": "code",
      "source": [
        "n=int(input(\"Ingrese un número \"))\n",
        "m=int(input(\"Ingrese un número \"))\n",
        "p=int(input(\"Ingrese un número \"))\n",
        "if n>m and n>p:\n",
        " print (f\"{n} es mayor\")\n",
        "elif m>n and m>p:\n",
        "  print(f\"{m} es mayor\")\n",
        "else:\n",
        " print(p, \"es mayor\")"
      ],
      "metadata": {
        "id": "07e-ue_lAh_0"
      },
      "execution_count": null,
      "outputs": []
    },
    {
      "cell_type": "code",
      "source": [],
      "metadata": {
        "id": "-O3DMV6tCwD4"
      },
      "execution_count": null,
      "outputs": []
    },
    {
      "cell_type": "code",
      "source": [],
      "metadata": {
        "id": "5bF8WxOeCwei"
      },
      "execution_count": null,
      "outputs": []
    },
    {
      "cell_type": "markdown",
      "source": [
        "7. Escribe un programa que reciba un año e indique si es bisiesto."
      ],
      "metadata": {
        "id": "gItYH-ugAiai"
      }
    },
    {
      "cell_type": "code",
      "source": [
        "contraseña = input(\"Digita la contraseña de al menos 8 caracteres: \")\n",
        "\n",
        "tiene_longitud = len(contraseña) >= 8\n",
        "tiene_numero = any(caracter.isdigit() for caracter in contraseña)\n",
        "tiene_mayuscula = any(caracter.isupper() for caracter in contraseña)\n",
        "\n",
        "if tiene_longitud and tiene_numero and tiene_mayuscula:\n",
        "    print(f\"{contraseña} es válida\")\n",
        "else:\n",
        "    print(f\"{contraseña} no es válida\")"
      ],
      "metadata": {
        "id": "FPowUcyIAlr5"
      },
      "execution_count": null,
      "outputs": []
    },
    {
      "cell_type": "code",
      "source": [
        "contraseña = input(\"Digita la contraseña de al menos 8 caracteres: \")\n",
        "\n",
        "tiene_longitud = len(contraseña) >= 8\n",
        "tiene_numero = any(caracter.isdigit() for caracter in contraseña)\n",
        "tiene_mayuscula = any(caracter.isupper() for caracter in contraseña)\n",
        "\n",
        "if tiene_longitud and tiene_numero and tiene_mayuscula:\n",
        "    print(f\"{contraseña} es válida\")\n",
        "elif tiene_longitud or tiene_numero or tiene_mayuscula:\n",
        "    print(f\"{contraseña} le falta un elemento\")\n",
        "else:\n",
        "    print(f\"{contraseña} no es válida\")"
      ],
      "metadata": {
        "id": "yDPC6S9yCVno"
      },
      "execution_count": null,
      "outputs": []
    },
    {
      "cell_type": "code",
      "source": [
        "print((contraseña := input(\"Digita la contraseña de al menos 8 caracteres: \")) + (\" es válida\" if len(contraseña) >= 8 and any(c.isdigit() for c in contraseña) and any(c.isupper() for c in contraseña) else \" no es válida\"))"
      ],
      "metadata": {
        "id": "IUzpqgzWCfvc"
      },
      "execution_count": null,
      "outputs": []
    },
    {
      "cell_type": "markdown",
      "source": [
        "8. Escribe un programa que reciba una contraseña e indique si cumple con las siguientes reglas:\n",
        "más de 8 caracteres, contiene al menos un número y una letra mayúscula."
      ],
      "metadata": {
        "id": "i34TuuIQAmap"
      }
    },
    {
      "cell_type": "code",
      "source": [
        "contraseña= input(\"Digita la contraseña de al menos 8 caracteres: \")\n",
        "\n",
        "tiene_longitud = len(contraseña) >= 8\n",
        "tiene_numero = any(caracter.isdigit() for caracter in contraseña)\n",
        "tiene_mayuscula = any(caracter.isupper() for caracter in contraseña)\n",
        "\n",
        "if tiene_longitud and tiene_numero and tiene_mayuscula:\n",
        "    print(f\"{contraseña} es válida\")\n",
        "else:\n",
        "    print(f\"{contraseña} no es válida\")"
      ],
      "metadata": {
        "id": "WFwNZ9oTAp0l"
      },
      "execution_count": null,
      "outputs": []
    },
    {
      "cell_type": "markdown",
      "source": [
        "9. Escribe un programa que lea un número e imprima “Fizz” si es divisible por 3, “Buzz” si es divisible\n",
        "por 5 y “FizzBuzz” si es divisible por ambos."
      ],
      "metadata": {
        "id": "jXq8GoKJAqOp"
      }
    },
    {
      "cell_type": "code",
      "source": [],
      "metadata": {
        "id": "kliQLCffAs_h"
      },
      "execution_count": null,
      "outputs": []
    },
    {
      "cell_type": "markdown",
      "source": [
        "10. Escribe un programa que simule un cajero automático: recibe el monto a retirar e imprime si la\n",
        "operación es posible en base al saldo disponible."
      ],
      "metadata": {
        "id": "6TYAwiDdAtVU"
      }
    },
    {
      "cell_type": "code",
      "source": [],
      "metadata": {
        "id": "m27pFI3CAxOq"
      },
      "execution_count": null,
      "outputs": []
    }
  ]
}